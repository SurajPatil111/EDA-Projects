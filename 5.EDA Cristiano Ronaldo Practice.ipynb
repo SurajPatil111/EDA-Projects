{
 "cells": [
  {
   "cell_type": "code",
   "execution_count": 1,
   "id": "c3e1b4f6",
   "metadata": {},
   "outputs": [],
   "source": [
    "import pandas as pd\n",
    "import numpy as np\n",
    "import seaborn as sns\n",
    "import matplotlib.pyplot as plt \n",
    "%matplotlib inline"
   ]
  },
  {
   "cell_type": "code",
   "execution_count": null,
   "id": "d23cb2bb",
   "metadata": {},
   "outputs": [],
   "source": []
  },
  {
   "cell_type": "code",
   "execution_count": 2,
   "id": "df598669",
   "metadata": {},
   "outputs": [],
   "source": [
    "df=pd.read_csv('yds_data.csv')"
   ]
  },
  {
   "cell_type": "code",
   "execution_count": 3,
   "id": "a0427ce3",
   "metadata": {},
   "outputs": [
    {
     "data": {
      "text/html": [
       "<div>\n",
       "<style scoped>\n",
       "    .dataframe tbody tr th:only-of-type {\n",
       "        vertical-align: middle;\n",
       "    }\n",
       "\n",
       "    .dataframe tbody tr th {\n",
       "        vertical-align: top;\n",
       "    }\n",
       "\n",
       "    .dataframe thead th {\n",
       "        text-align: right;\n",
       "    }\n",
       "</style>\n",
       "<table border=\"1\" class=\"dataframe\">\n",
       "  <thead>\n",
       "    <tr style=\"text-align: right;\">\n",
       "      <th></th>\n",
       "      <th>Unnamed: 0</th>\n",
       "      <th>match_event_id</th>\n",
       "      <th>location_x</th>\n",
       "      <th>location_y</th>\n",
       "      <th>remaining_min</th>\n",
       "      <th>power_of_shot</th>\n",
       "      <th>knockout_match</th>\n",
       "      <th>game_season</th>\n",
       "      <th>remaining_sec</th>\n",
       "      <th>distance_of_shot</th>\n",
       "      <th>...</th>\n",
       "      <th>lat/lng</th>\n",
       "      <th>type_of_shot</th>\n",
       "      <th>type_of_combined_shot</th>\n",
       "      <th>match_id</th>\n",
       "      <th>team_id</th>\n",
       "      <th>remaining_min.1</th>\n",
       "      <th>power_of_shot.1</th>\n",
       "      <th>knockout_match.1</th>\n",
       "      <th>remaining_sec.1</th>\n",
       "      <th>distance_of_shot.1</th>\n",
       "    </tr>\n",
       "  </thead>\n",
       "  <tbody>\n",
       "    <tr>\n",
       "      <th>0</th>\n",
       "      <td>0</td>\n",
       "      <td>10.0</td>\n",
       "      <td>167.0</td>\n",
       "      <td>72.0</td>\n",
       "      <td>10.0</td>\n",
       "      <td>1.0</td>\n",
       "      <td>0.0</td>\n",
       "      <td>2000-01</td>\n",
       "      <td>27.0</td>\n",
       "      <td>38.0</td>\n",
       "      <td>...</td>\n",
       "      <td>45.539131, -122.651648</td>\n",
       "      <td>shot - 30</td>\n",
       "      <td>NaN</td>\n",
       "      <td>20000012</td>\n",
       "      <td>1610612747</td>\n",
       "      <td>10.00</td>\n",
       "      <td>1.0</td>\n",
       "      <td>50.608</td>\n",
       "      <td>54.2000</td>\n",
       "      <td>38.0</td>\n",
       "    </tr>\n",
       "    <tr>\n",
       "      <th>1</th>\n",
       "      <td>1</td>\n",
       "      <td>12.0</td>\n",
       "      <td>-157.0</td>\n",
       "      <td>0.0</td>\n",
       "      <td>10.0</td>\n",
       "      <td>1.0</td>\n",
       "      <td>0.0</td>\n",
       "      <td>2000-01</td>\n",
       "      <td>22.0</td>\n",
       "      <td>35.0</td>\n",
       "      <td>...</td>\n",
       "      <td>45.539131, -122.651648</td>\n",
       "      <td>shot - 45</td>\n",
       "      <td>NaN</td>\n",
       "      <td>20000012</td>\n",
       "      <td>1610612747</td>\n",
       "      <td>10.00</td>\n",
       "      <td>1.0</td>\n",
       "      <td>28.800</td>\n",
       "      <td>22.0000</td>\n",
       "      <td>35.0</td>\n",
       "    </tr>\n",
       "    <tr>\n",
       "      <th>2</th>\n",
       "      <td>2</td>\n",
       "      <td>35.0</td>\n",
       "      <td>-101.0</td>\n",
       "      <td>135.0</td>\n",
       "      <td>7.0</td>\n",
       "      <td>1.0</td>\n",
       "      <td>0.0</td>\n",
       "      <td>2000-01</td>\n",
       "      <td>45.0</td>\n",
       "      <td>36.0</td>\n",
       "      <td>...</td>\n",
       "      <td>45.539131, -122.651648</td>\n",
       "      <td>shot - 25</td>\n",
       "      <td>NaN</td>\n",
       "      <td>20000012</td>\n",
       "      <td>1610612747</td>\n",
       "      <td>92.64</td>\n",
       "      <td>1.0</td>\n",
       "      <td>0.000</td>\n",
       "      <td>63.7216</td>\n",
       "      <td>54.4</td>\n",
       "    </tr>\n",
       "    <tr>\n",
       "      <th>3</th>\n",
       "      <td>3</td>\n",
       "      <td>43.0</td>\n",
       "      <td>138.0</td>\n",
       "      <td>175.0</td>\n",
       "      <td>6.0</td>\n",
       "      <td>1.0</td>\n",
       "      <td>0.0</td>\n",
       "      <td>2000-01</td>\n",
       "      <td>52.0</td>\n",
       "      <td>42.0</td>\n",
       "      <td>...</td>\n",
       "      <td>45.539131, -122.651648</td>\n",
       "      <td>NaN</td>\n",
       "      <td>shot - 3</td>\n",
       "      <td>20000012</td>\n",
       "      <td>1610612747</td>\n",
       "      <td>NaN</td>\n",
       "      <td>1.0</td>\n",
       "      <td>122.608</td>\n",
       "      <td>52.0000</td>\n",
       "      <td>42.0</td>\n",
       "    </tr>\n",
       "    <tr>\n",
       "      <th>4</th>\n",
       "      <td>4</td>\n",
       "      <td>155.0</td>\n",
       "      <td>0.0</td>\n",
       "      <td>0.0</td>\n",
       "      <td>NaN</td>\n",
       "      <td>2.0</td>\n",
       "      <td>0.0</td>\n",
       "      <td>2000-01</td>\n",
       "      <td>19.0</td>\n",
       "      <td>20.0</td>\n",
       "      <td>...</td>\n",
       "      <td>45.539131, -122.651648</td>\n",
       "      <td>NaN</td>\n",
       "      <td>shot - 1</td>\n",
       "      <td>20000012</td>\n",
       "      <td>1610612747</td>\n",
       "      <td>42.64</td>\n",
       "      <td>2.0</td>\n",
       "      <td>0.000</td>\n",
       "      <td>19.0000</td>\n",
       "      <td>20.0</td>\n",
       "    </tr>\n",
       "  </tbody>\n",
       "</table>\n",
       "<p>5 rows × 28 columns</p>\n",
       "</div>"
      ],
      "text/plain": [
       "   Unnamed: 0  match_event_id  location_x  location_y  remaining_min  \\\n",
       "0           0            10.0       167.0        72.0           10.0   \n",
       "1           1            12.0      -157.0         0.0           10.0   \n",
       "2           2            35.0      -101.0       135.0            7.0   \n",
       "3           3            43.0       138.0       175.0            6.0   \n",
       "4           4           155.0         0.0         0.0            NaN   \n",
       "\n",
       "   power_of_shot  knockout_match game_season  remaining_sec  distance_of_shot  \\\n",
       "0            1.0             0.0     2000-01           27.0              38.0   \n",
       "1            1.0             0.0     2000-01           22.0              35.0   \n",
       "2            1.0             0.0     2000-01           45.0              36.0   \n",
       "3            1.0             0.0     2000-01           52.0              42.0   \n",
       "4            2.0             0.0     2000-01           19.0              20.0   \n",
       "\n",
       "   ...                 lat/lng type_of_shot type_of_combined_shot  match_id  \\\n",
       "0  ...  45.539131, -122.651648    shot - 30                   NaN  20000012   \n",
       "1  ...  45.539131, -122.651648    shot - 45                   NaN  20000012   \n",
       "2  ...  45.539131, -122.651648    shot - 25                   NaN  20000012   \n",
       "3  ...  45.539131, -122.651648          NaN              shot - 3  20000012   \n",
       "4  ...  45.539131, -122.651648          NaN              shot - 1  20000012   \n",
       "\n",
       "      team_id remaining_min.1 power_of_shot.1  knockout_match.1  \\\n",
       "0  1610612747           10.00             1.0            50.608   \n",
       "1  1610612747           10.00             1.0            28.800   \n",
       "2  1610612747           92.64             1.0             0.000   \n",
       "3  1610612747             NaN             1.0           122.608   \n",
       "4  1610612747           42.64             2.0             0.000   \n",
       "\n",
       "  remaining_sec.1 distance_of_shot.1  \n",
       "0         54.2000               38.0  \n",
       "1         22.0000               35.0  \n",
       "2         63.7216               54.4  \n",
       "3         52.0000               42.0  \n",
       "4         19.0000               20.0  \n",
       "\n",
       "[5 rows x 28 columns]"
      ]
     },
     "execution_count": 3,
     "metadata": {},
     "output_type": "execute_result"
    }
   ],
   "source": [
    "df.head()"
   ]
  },
  {
   "cell_type": "code",
   "execution_count": 4,
   "id": "d48f5d2c",
   "metadata": {},
   "outputs": [
    {
     "data": {
      "text/html": [
       "<div>\n",
       "<style scoped>\n",
       "    .dataframe tbody tr th:only-of-type {\n",
       "        vertical-align: middle;\n",
       "    }\n",
       "\n",
       "    .dataframe tbody tr th {\n",
       "        vertical-align: top;\n",
       "    }\n",
       "\n",
       "    .dataframe thead th {\n",
       "        text-align: right;\n",
       "    }\n",
       "</style>\n",
       "<table border=\"1\" class=\"dataframe\">\n",
       "  <thead>\n",
       "    <tr style=\"text-align: right;\">\n",
       "      <th></th>\n",
       "      <th>Unnamed: 0</th>\n",
       "      <th>match_event_id</th>\n",
       "      <th>location_x</th>\n",
       "      <th>location_y</th>\n",
       "      <th>remaining_min</th>\n",
       "      <th>power_of_shot</th>\n",
       "      <th>knockout_match</th>\n",
       "      <th>remaining_sec</th>\n",
       "      <th>distance_of_shot</th>\n",
       "      <th>is_goal</th>\n",
       "      <th>shot_id_number</th>\n",
       "      <th>match_id</th>\n",
       "      <th>team_id</th>\n",
       "      <th>remaining_min.1</th>\n",
       "      <th>power_of_shot.1</th>\n",
       "      <th>knockout_match.1</th>\n",
       "      <th>remaining_sec.1</th>\n",
       "      <th>distance_of_shot.1</th>\n",
       "    </tr>\n",
       "  </thead>\n",
       "  <tbody>\n",
       "    <tr>\n",
       "      <th>count</th>\n",
       "      <td>30697.000000</td>\n",
       "      <td>29134.000000</td>\n",
       "      <td>29236.000000</td>\n",
       "      <td>29157.000000</td>\n",
       "      <td>29135.000000</td>\n",
       "      <td>29211.000000</td>\n",
       "      <td>29180.000000</td>\n",
       "      <td>29103.000000</td>\n",
       "      <td>29130.000000</td>\n",
       "      <td>24429.000000</td>\n",
       "      <td>29134.000000</td>\n",
       "      <td>3.069700e+04</td>\n",
       "      <td>3.069700e+04</td>\n",
       "      <td>29162.000000</td>\n",
       "      <td>29158.000000</td>\n",
       "      <td>29204.000000</td>\n",
       "      <td>29158.000000</td>\n",
       "      <td>29129.000000</td>\n",
       "    </tr>\n",
       "    <tr>\n",
       "      <th>mean</th>\n",
       "      <td>15348.000000</td>\n",
       "      <td>249.576028</td>\n",
       "      <td>7.383876</td>\n",
       "      <td>91.126933</td>\n",
       "      <td>4.883233</td>\n",
       "      <td>2.519359</td>\n",
       "      <td>0.145956</td>\n",
       "      <td>28.329382</td>\n",
       "      <td>33.448884</td>\n",
       "      <td>0.445331</td>\n",
       "      <td>15368.581039</td>\n",
       "      <td>2.476407e+07</td>\n",
       "      <td>1.610613e+09</td>\n",
       "      <td>18.204615</td>\n",
       "      <td>15.994109</td>\n",
       "      <td>16.599402</td>\n",
       "      <td>39.027303</td>\n",
       "      <td>38.801852</td>\n",
       "    </tr>\n",
       "    <tr>\n",
       "      <th>std</th>\n",
       "      <td>8861.604943</td>\n",
       "      <td>150.186019</td>\n",
       "      <td>110.263049</td>\n",
       "      <td>87.676395</td>\n",
       "      <td>3.452533</td>\n",
       "      <td>1.153976</td>\n",
       "      <td>0.353068</td>\n",
       "      <td>17.470663</td>\n",
       "      <td>9.369656</td>\n",
       "      <td>0.497013</td>\n",
       "      <td>8866.520772</td>\n",
       "      <td>7.755175e+06</td>\n",
       "      <td>0.000000e+00</td>\n",
       "      <td>29.416973</td>\n",
       "      <td>29.676815</td>\n",
       "      <td>35.172016</td>\n",
       "      <td>29.835284</td>\n",
       "      <td>18.787711</td>\n",
       "    </tr>\n",
       "    <tr>\n",
       "      <th>min</th>\n",
       "      <td>0.000000</td>\n",
       "      <td>2.000000</td>\n",
       "      <td>-250.000000</td>\n",
       "      <td>-44.000000</td>\n",
       "      <td>0.000000</td>\n",
       "      <td>1.000000</td>\n",
       "      <td>0.000000</td>\n",
       "      <td>0.000000</td>\n",
       "      <td>20.000000</td>\n",
       "      <td>0.000000</td>\n",
       "      <td>1.000000</td>\n",
       "      <td>2.000001e+07</td>\n",
       "      <td>1.610613e+09</td>\n",
       "      <td>0.000000</td>\n",
       "      <td>1.000000</td>\n",
       "      <td>0.000000</td>\n",
       "      <td>0.000000</td>\n",
       "      <td>9.400000</td>\n",
       "    </tr>\n",
       "    <tr>\n",
       "      <th>25%</th>\n",
       "      <td>7674.000000</td>\n",
       "      <td>111.000000</td>\n",
       "      <td>-68.000000</td>\n",
       "      <td>4.000000</td>\n",
       "      <td>2.000000</td>\n",
       "      <td>1.000000</td>\n",
       "      <td>0.000000</td>\n",
       "      <td>13.000000</td>\n",
       "      <td>25.000000</td>\n",
       "      <td>0.000000</td>\n",
       "      <td>7693.250000</td>\n",
       "      <td>2.050008e+07</td>\n",
       "      <td>1.610613e+09</td>\n",
       "      <td>3.000000</td>\n",
       "      <td>2.000000</td>\n",
       "      <td>0.000000</td>\n",
       "      <td>17.000000</td>\n",
       "      <td>26.000000</td>\n",
       "    </tr>\n",
       "    <tr>\n",
       "      <th>50%</th>\n",
       "      <td>15348.000000</td>\n",
       "      <td>254.000000</td>\n",
       "      <td>0.000000</td>\n",
       "      <td>74.000000</td>\n",
       "      <td>5.000000</td>\n",
       "      <td>3.000000</td>\n",
       "      <td>0.000000</td>\n",
       "      <td>28.000000</td>\n",
       "      <td>35.000000</td>\n",
       "      <td>0.000000</td>\n",
       "      <td>15378.500000</td>\n",
       "      <td>2.090035e+07</td>\n",
       "      <td>1.610613e+09</td>\n",
       "      <td>6.000000</td>\n",
       "      <td>3.000000</td>\n",
       "      <td>0.000000</td>\n",
       "      <td>35.000000</td>\n",
       "      <td>36.000000</td>\n",
       "    </tr>\n",
       "    <tr>\n",
       "      <th>75%</th>\n",
       "      <td>23022.000000</td>\n",
       "      <td>369.000000</td>\n",
       "      <td>95.000000</td>\n",
       "      <td>160.000000</td>\n",
       "      <td>8.000000</td>\n",
       "      <td>3.000000</td>\n",
       "      <td>0.000000</td>\n",
       "      <td>43.000000</td>\n",
       "      <td>41.000000</td>\n",
       "      <td>1.000000</td>\n",
       "      <td>23055.750000</td>\n",
       "      <td>2.960047e+07</td>\n",
       "      <td>1.610613e+09</td>\n",
       "      <td>11.000000</td>\n",
       "      <td>4.000000</td>\n",
       "      <td>1.000000</td>\n",
       "      <td>52.000000</td>\n",
       "      <td>44.000000</td>\n",
       "    </tr>\n",
       "    <tr>\n",
       "      <th>max</th>\n",
       "      <td>30696.000000</td>\n",
       "      <td>659.000000</td>\n",
       "      <td>248.000000</td>\n",
       "      <td>791.000000</td>\n",
       "      <td>11.000000</td>\n",
       "      <td>7.000000</td>\n",
       "      <td>1.000000</td>\n",
       "      <td>59.000000</td>\n",
       "      <td>99.000000</td>\n",
       "      <td>1.000000</td>\n",
       "      <td>30697.000000</td>\n",
       "      <td>4.990009e+07</td>\n",
       "      <td>1.610613e+09</td>\n",
       "      <td>128.761600</td>\n",
       "      <td>118.360000</td>\n",
       "      <td>141.352320</td>\n",
       "      <td>144.785600</td>\n",
       "      <td>115.728000</td>\n",
       "    </tr>\n",
       "  </tbody>\n",
       "</table>\n",
       "</div>"
      ],
      "text/plain": [
       "         Unnamed: 0  match_event_id    location_x    location_y  \\\n",
       "count  30697.000000    29134.000000  29236.000000  29157.000000   \n",
       "mean   15348.000000      249.576028      7.383876     91.126933   \n",
       "std     8861.604943      150.186019    110.263049     87.676395   \n",
       "min        0.000000        2.000000   -250.000000    -44.000000   \n",
       "25%     7674.000000      111.000000    -68.000000      4.000000   \n",
       "50%    15348.000000      254.000000      0.000000     74.000000   \n",
       "75%    23022.000000      369.000000     95.000000    160.000000   \n",
       "max    30696.000000      659.000000    248.000000    791.000000   \n",
       "\n",
       "       remaining_min  power_of_shot  knockout_match  remaining_sec  \\\n",
       "count   29135.000000   29211.000000    29180.000000   29103.000000   \n",
       "mean        4.883233       2.519359        0.145956      28.329382   \n",
       "std         3.452533       1.153976        0.353068      17.470663   \n",
       "min         0.000000       1.000000        0.000000       0.000000   \n",
       "25%         2.000000       1.000000        0.000000      13.000000   \n",
       "50%         5.000000       3.000000        0.000000      28.000000   \n",
       "75%         8.000000       3.000000        0.000000      43.000000   \n",
       "max        11.000000       7.000000        1.000000      59.000000   \n",
       "\n",
       "       distance_of_shot       is_goal  shot_id_number      match_id  \\\n",
       "count      29130.000000  24429.000000    29134.000000  3.069700e+04   \n",
       "mean          33.448884      0.445331    15368.581039  2.476407e+07   \n",
       "std            9.369656      0.497013     8866.520772  7.755175e+06   \n",
       "min           20.000000      0.000000        1.000000  2.000001e+07   \n",
       "25%           25.000000      0.000000     7693.250000  2.050008e+07   \n",
       "50%           35.000000      0.000000    15378.500000  2.090035e+07   \n",
       "75%           41.000000      1.000000    23055.750000  2.960047e+07   \n",
       "max           99.000000      1.000000    30697.000000  4.990009e+07   \n",
       "\n",
       "            team_id  remaining_min.1  power_of_shot.1  knockout_match.1  \\\n",
       "count  3.069700e+04     29162.000000     29158.000000      29204.000000   \n",
       "mean   1.610613e+09        18.204615        15.994109         16.599402   \n",
       "std    0.000000e+00        29.416973        29.676815         35.172016   \n",
       "min    1.610613e+09         0.000000         1.000000          0.000000   \n",
       "25%    1.610613e+09         3.000000         2.000000          0.000000   \n",
       "50%    1.610613e+09         6.000000         3.000000          0.000000   \n",
       "75%    1.610613e+09        11.000000         4.000000          1.000000   \n",
       "max    1.610613e+09       128.761600       118.360000        141.352320   \n",
       "\n",
       "       remaining_sec.1  distance_of_shot.1  \n",
       "count     29158.000000        29129.000000  \n",
       "mean         39.027303           38.801852  \n",
       "std          29.835284           18.787711  \n",
       "min           0.000000            9.400000  \n",
       "25%          17.000000           26.000000  \n",
       "50%          35.000000           36.000000  \n",
       "75%          52.000000           44.000000  \n",
       "max         144.785600          115.728000  "
      ]
     },
     "execution_count": 4,
     "metadata": {},
     "output_type": "execute_result"
    }
   ],
   "source": [
    "df.describe()"
   ]
  },
  {
   "cell_type": "code",
   "execution_count": 638,
   "id": "ca4a0541",
   "metadata": {},
   "outputs": [
    {
     "name": "stdout",
     "output_type": "stream",
     "text": [
      "<class 'pandas.core.frame.DataFrame'>\n",
      "RangeIndex: 30697 entries, 0 to 30696\n",
      "Data columns (total 28 columns):\n",
      " #   Column                 Non-Null Count  Dtype  \n",
      "---  ------                 --------------  -----  \n",
      " 0   Unnamed: 0             30697 non-null  int64  \n",
      " 1   match_event_id         29134 non-null  float64\n",
      " 2   location_x             29236 non-null  float64\n",
      " 3   location_y             29157 non-null  float64\n",
      " 4   remaining_min          29135 non-null  float64\n",
      " 5   power_of_shot          29211 non-null  float64\n",
      " 6   knockout_match         29180 non-null  float64\n",
      " 7   game_season            24835 non-null  object \n",
      " 8   remaining_sec          29103 non-null  float64\n",
      " 9   distance_of_shot       29130 non-null  float64\n",
      " 10  is_goal                24429 non-null  float64\n",
      " 11  area_of_shot           29195 non-null  object \n",
      " 12  shot_basics            29122 non-null  object \n",
      " 13  range_of_shot          29133 non-null  object \n",
      " 14  team_name              29162 non-null  object \n",
      " 15  date_of_game           29147 non-null  object \n",
      " 16  home/away              29200 non-null  object \n",
      " 17  shot_id_number         29134 non-null  float64\n",
      " 18  lat/lng                29132 non-null  object \n",
      " 19  type_of_shot           15417 non-null  object \n",
      " 20  type_of_combined_shot  15280 non-null  object \n",
      " 21  match_id               30697 non-null  int64  \n",
      " 22  team_id                30697 non-null  int64  \n",
      " 23  remaining_min.1        29162 non-null  float64\n",
      " 24  power_of_shot.1        29158 non-null  float64\n",
      " 25  knockout_match.1       29204 non-null  float64\n",
      " 26  remaining_sec.1        29158 non-null  float64\n",
      " 27  distance_of_shot.1     29129 non-null  float64\n",
      "dtypes: float64(15), int64(3), object(10)\n",
      "memory usage: 6.6+ MB\n"
     ]
    }
   ],
   "source": [
    "df.info()"
   ]
  },
  {
   "cell_type": "code",
   "execution_count": null,
   "id": "83a3784e",
   "metadata": {},
   "outputs": [],
   "source": []
  },
  {
   "cell_type": "markdown",
   "id": "14125e41",
   "metadata": {},
   "source": [
    "finding % of missing values in each column"
   ]
  },
  {
   "cell_type": "code",
   "execution_count": 639,
   "id": "1dd5276b",
   "metadata": {},
   "outputs": [
    {
     "data": {
      "text/plain": [
       "30697"
      ]
     },
     "execution_count": 639,
     "metadata": {},
     "output_type": "execute_result"
    }
   ],
   "source": [
    "df.shape[0]"
   ]
  },
  {
   "cell_type": "code",
   "execution_count": 640,
   "id": "c02d3352",
   "metadata": {},
   "outputs": [],
   "source": [
    "missing_values=pd.DataFrame({'missing_value_count': df.isnull().sum(),'%_missing_value': (df.isnull().sum()/df.shape[0])*100})"
   ]
  },
  {
   "cell_type": "code",
   "execution_count": 641,
   "id": "84b3bd8d",
   "metadata": {},
   "outputs": [
    {
     "data": {
      "text/html": [
       "<div>\n",
       "<style scoped>\n",
       "    .dataframe tbody tr th:only-of-type {\n",
       "        vertical-align: middle;\n",
       "    }\n",
       "\n",
       "    .dataframe tbody tr th {\n",
       "        vertical-align: top;\n",
       "    }\n",
       "\n",
       "    .dataframe thead th {\n",
       "        text-align: right;\n",
       "    }\n",
       "</style>\n",
       "<table border=\"1\" class=\"dataframe\">\n",
       "  <thead>\n",
       "    <tr style=\"text-align: right;\">\n",
       "      <th></th>\n",
       "      <th>missing_value_count</th>\n",
       "      <th>%_missing_value</th>\n",
       "    </tr>\n",
       "  </thead>\n",
       "  <tbody>\n",
       "    <tr>\n",
       "      <th>Unnamed: 0</th>\n",
       "      <td>0</td>\n",
       "      <td>0.000000</td>\n",
       "    </tr>\n",
       "    <tr>\n",
       "      <th>match_event_id</th>\n",
       "      <td>1563</td>\n",
       "      <td>5.091703</td>\n",
       "    </tr>\n",
       "    <tr>\n",
       "      <th>location_x</th>\n",
       "      <td>1461</td>\n",
       "      <td>4.759423</td>\n",
       "    </tr>\n",
       "    <tr>\n",
       "      <th>location_y</th>\n",
       "      <td>1540</td>\n",
       "      <td>5.016777</td>\n",
       "    </tr>\n",
       "    <tr>\n",
       "      <th>remaining_min</th>\n",
       "      <td>1562</td>\n",
       "      <td>5.088445</td>\n",
       "    </tr>\n",
       "    <tr>\n",
       "      <th>power_of_shot</th>\n",
       "      <td>1486</td>\n",
       "      <td>4.840864</td>\n",
       "    </tr>\n",
       "    <tr>\n",
       "      <th>knockout_match</th>\n",
       "      <td>1517</td>\n",
       "      <td>4.941851</td>\n",
       "    </tr>\n",
       "    <tr>\n",
       "      <th>game_season</th>\n",
       "      <td>5862</td>\n",
       "      <td>19.096329</td>\n",
       "    </tr>\n",
       "    <tr>\n",
       "      <th>remaining_sec</th>\n",
       "      <td>1594</td>\n",
       "      <td>5.192690</td>\n",
       "    </tr>\n",
       "    <tr>\n",
       "      <th>distance_of_shot</th>\n",
       "      <td>1567</td>\n",
       "      <td>5.104733</td>\n",
       "    </tr>\n",
       "    <tr>\n",
       "      <th>is_goal</th>\n",
       "      <td>6268</td>\n",
       "      <td>20.418933</td>\n",
       "    </tr>\n",
       "    <tr>\n",
       "      <th>area_of_shot</th>\n",
       "      <td>1502</td>\n",
       "      <td>4.892986</td>\n",
       "    </tr>\n",
       "    <tr>\n",
       "      <th>shot_basics</th>\n",
       "      <td>1575</td>\n",
       "      <td>5.130795</td>\n",
       "    </tr>\n",
       "    <tr>\n",
       "      <th>range_of_shot</th>\n",
       "      <td>1564</td>\n",
       "      <td>5.094960</td>\n",
       "    </tr>\n",
       "    <tr>\n",
       "      <th>team_name</th>\n",
       "      <td>1535</td>\n",
       "      <td>5.000489</td>\n",
       "    </tr>\n",
       "    <tr>\n",
       "      <th>date_of_game</th>\n",
       "      <td>1550</td>\n",
       "      <td>5.049353</td>\n",
       "    </tr>\n",
       "    <tr>\n",
       "      <th>home/away</th>\n",
       "      <td>1497</td>\n",
       "      <td>4.876698</td>\n",
       "    </tr>\n",
       "    <tr>\n",
       "      <th>shot_id_number</th>\n",
       "      <td>1563</td>\n",
       "      <td>5.091703</td>\n",
       "    </tr>\n",
       "    <tr>\n",
       "      <th>lat/lng</th>\n",
       "      <td>1565</td>\n",
       "      <td>5.098218</td>\n",
       "    </tr>\n",
       "    <tr>\n",
       "      <th>type_of_shot</th>\n",
       "      <td>15280</td>\n",
       "      <td>49.776851</td>\n",
       "    </tr>\n",
       "    <tr>\n",
       "      <th>type_of_combined_shot</th>\n",
       "      <td>15417</td>\n",
       "      <td>50.223149</td>\n",
       "    </tr>\n",
       "    <tr>\n",
       "      <th>match_id</th>\n",
       "      <td>0</td>\n",
       "      <td>0.000000</td>\n",
       "    </tr>\n",
       "    <tr>\n",
       "      <th>team_id</th>\n",
       "      <td>0</td>\n",
       "      <td>0.000000</td>\n",
       "    </tr>\n",
       "    <tr>\n",
       "      <th>remaining_min.1</th>\n",
       "      <td>1535</td>\n",
       "      <td>5.000489</td>\n",
       "    </tr>\n",
       "    <tr>\n",
       "      <th>power_of_shot.1</th>\n",
       "      <td>1539</td>\n",
       "      <td>5.013519</td>\n",
       "    </tr>\n",
       "    <tr>\n",
       "      <th>knockout_match.1</th>\n",
       "      <td>1493</td>\n",
       "      <td>4.863667</td>\n",
       "    </tr>\n",
       "    <tr>\n",
       "      <th>remaining_sec.1</th>\n",
       "      <td>1539</td>\n",
       "      <td>5.013519</td>\n",
       "    </tr>\n",
       "    <tr>\n",
       "      <th>distance_of_shot.1</th>\n",
       "      <td>1568</td>\n",
       "      <td>5.107991</td>\n",
       "    </tr>\n",
       "  </tbody>\n",
       "</table>\n",
       "</div>"
      ],
      "text/plain": [
       "                       missing_value_count  %_missing_value\n",
       "Unnamed: 0                               0         0.000000\n",
       "match_event_id                        1563         5.091703\n",
       "location_x                            1461         4.759423\n",
       "location_y                            1540         5.016777\n",
       "remaining_min                         1562         5.088445\n",
       "power_of_shot                         1486         4.840864\n",
       "knockout_match                        1517         4.941851\n",
       "game_season                           5862        19.096329\n",
       "remaining_sec                         1594         5.192690\n",
       "distance_of_shot                      1567         5.104733\n",
       "is_goal                               6268        20.418933\n",
       "area_of_shot                          1502         4.892986\n",
       "shot_basics                           1575         5.130795\n",
       "range_of_shot                         1564         5.094960\n",
       "team_name                             1535         5.000489\n",
       "date_of_game                          1550         5.049353\n",
       "home/away                             1497         4.876698\n",
       "shot_id_number                        1563         5.091703\n",
       "lat/lng                               1565         5.098218\n",
       "type_of_shot                         15280        49.776851\n",
       "type_of_combined_shot                15417        50.223149\n",
       "match_id                                 0         0.000000\n",
       "team_id                                  0         0.000000\n",
       "remaining_min.1                       1535         5.000489\n",
       "power_of_shot.1                       1539         5.013519\n",
       "knockout_match.1                      1493         4.863667\n",
       "remaining_sec.1                       1539         5.013519\n",
       "distance_of_shot.1                    1568         5.107991"
      ]
     },
     "execution_count": 641,
     "metadata": {},
     "output_type": "execute_result"
    }
   ],
   "source": [
    "missing_values"
   ]
  },
  {
   "cell_type": "code",
   "execution_count": null,
   "id": "e85be588",
   "metadata": {},
   "outputs": [],
   "source": []
  },
  {
   "cell_type": "code",
   "execution_count": 642,
   "id": "87ce9420",
   "metadata": {},
   "outputs": [],
   "source": [
    "df1=df.copy()    ##copy of dataframe"
   ]
  },
  {
   "cell_type": "code",
   "execution_count": null,
   "id": "ad07e1d9",
   "metadata": {},
   "outputs": [],
   "source": []
  },
  {
   "cell_type": "code",
   "execution_count": 643,
   "id": "22237359",
   "metadata": {},
   "outputs": [
    {
     "data": {
      "text/html": [
       "<div>\n",
       "<style scoped>\n",
       "    .dataframe tbody tr th:only-of-type {\n",
       "        vertical-align: middle;\n",
       "    }\n",
       "\n",
       "    .dataframe tbody tr th {\n",
       "        vertical-align: top;\n",
       "    }\n",
       "\n",
       "    .dataframe thead th {\n",
       "        text-align: right;\n",
       "    }\n",
       "</style>\n",
       "<table border=\"1\" class=\"dataframe\">\n",
       "  <thead>\n",
       "    <tr style=\"text-align: right;\">\n",
       "      <th></th>\n",
       "      <th>Unnamed: 0</th>\n",
       "      <th>match_event_id</th>\n",
       "      <th>location_x</th>\n",
       "      <th>location_y</th>\n",
       "      <th>remaining_min</th>\n",
       "      <th>power_of_shot</th>\n",
       "      <th>knockout_match</th>\n",
       "      <th>game_season</th>\n",
       "      <th>remaining_sec</th>\n",
       "      <th>distance_of_shot</th>\n",
       "      <th>...</th>\n",
       "      <th>lat/lng</th>\n",
       "      <th>type_of_shot</th>\n",
       "      <th>type_of_combined_shot</th>\n",
       "      <th>match_id</th>\n",
       "      <th>team_id</th>\n",
       "      <th>remaining_min.1</th>\n",
       "      <th>power_of_shot.1</th>\n",
       "      <th>knockout_match.1</th>\n",
       "      <th>remaining_sec.1</th>\n",
       "      <th>distance_of_shot.1</th>\n",
       "    </tr>\n",
       "  </thead>\n",
       "  <tbody>\n",
       "  </tbody>\n",
       "</table>\n",
       "<p>0 rows × 28 columns</p>\n",
       "</div>"
      ],
      "text/plain": [
       "Empty DataFrame\n",
       "Columns: [Unnamed: 0, match_event_id, location_x, location_y, remaining_min, power_of_shot, knockout_match, game_season, remaining_sec, distance_of_shot, is_goal, area_of_shot, shot_basics, range_of_shot, team_name, date_of_game, home/away, shot_id_number, lat/lng, type_of_shot, type_of_combined_shot, match_id, team_id, remaining_min.1, power_of_shot.1, knockout_match.1, remaining_sec.1, distance_of_shot.1]\n",
       "Index: []\n",
       "\n",
       "[0 rows x 28 columns]"
      ]
     },
     "execution_count": 643,
     "metadata": {},
     "output_type": "execute_result"
    }
   ],
   "source": [
    "df1[df1.duplicated()]"
   ]
  },
  {
   "cell_type": "code",
   "execution_count": null,
   "id": "e71ecb4f",
   "metadata": {},
   "outputs": [],
   "source": []
  },
  {
   "cell_type": "markdown",
   "id": "9bd2c68a",
   "metadata": {},
   "source": [
    "Handeling categorical data location x,y\n",
    "\n",
    "replace nan values with mode() value"
   ]
  },
  {
   "cell_type": "code",
   "execution_count": 644,
   "id": "4edcd0cd",
   "metadata": {},
   "outputs": [
    {
     "data": {
      "text/plain": [
       "1461"
      ]
     },
     "execution_count": 644,
     "metadata": {},
     "output_type": "execute_result"
    }
   ],
   "source": [
    "df1['location_x'].isnull().sum()"
   ]
  },
  {
   "cell_type": "code",
   "execution_count": 645,
   "id": "3e7d0a4d",
   "metadata": {},
   "outputs": [
    {
     "data": {
      "text/plain": [
       "1540"
      ]
     },
     "execution_count": 645,
     "metadata": {},
     "output_type": "execute_result"
    }
   ],
   "source": [
    "df1['location_y'].isnull().sum()"
   ]
  },
  {
   "cell_type": "code",
   "execution_count": 646,
   "id": "a9f45998",
   "metadata": {},
   "outputs": [
    {
     "data": {
      "text/plain": [
       "0    0.0\n",
       "dtype: float64"
      ]
     },
     "execution_count": 646,
     "metadata": {},
     "output_type": "execute_result"
    }
   ],
   "source": [
    "df1['location_x'].mode()"
   ]
  },
  {
   "cell_type": "code",
   "execution_count": 647,
   "id": "e2215f78",
   "metadata": {},
   "outputs": [
    {
     "data": {
      "text/plain": [
       "0    0.0\n",
       "dtype: float64"
      ]
     },
     "execution_count": 647,
     "metadata": {},
     "output_type": "execute_result"
    }
   ],
   "source": [
    "df1['location_y'].mode()"
   ]
  },
  {
   "cell_type": "code",
   "execution_count": 648,
   "id": "eaf482d0",
   "metadata": {},
   "outputs": [
    {
     "data": {
      "text/plain": [
       " 0.0      5195\n",
       " 1.0       256\n",
       " 138.0     143\n",
       " 159.0     142\n",
       "-2.0       139\n",
       "          ... \n",
       "-248.0       1\n",
       "-211.0       1\n",
       "-47.0        1\n",
       "-208.0       1\n",
       " 139.0       1\n",
       "Name: location_x, Length: 488, dtype: int64"
      ]
     },
     "execution_count": 648,
     "metadata": {},
     "output_type": "execute_result"
    }
   ],
   "source": [
    "df1['location_x'].value_counts()"
   ]
  },
  {
   "cell_type": "code",
   "execution_count": 649,
   "id": "c3352cde",
   "metadata": {},
   "outputs": [
    {
     "data": {
      "text/plain": [
       "<AxesSubplot:xlabel='location_x'>"
      ]
     },
     "execution_count": 649,
     "metadata": {},
     "output_type": "execute_result"
    },
    {
     "data": {
      "image/png": "[encoded data removed]",
      "text/plain": [
       "<Figure size 432x288 with 1 Axes>"
      ]
     },
     "metadata": {
      "needs_background": "light"
     },
     "output_type": "display_data"
    }
   ],
   "source": [
    "sns.boxplot(x='location_x',data=df1)"
   ]
  },
  {
   "cell_type": "code",
   "execution_count": 650,
   "id": "4263b7fd",
   "metadata": {},
   "outputs": [
    {
     "data": {
      "text/plain": [
       "<AxesSubplot:xlabel='location_y'>"
      ]
     },
     "execution_count": 650,
     "metadata": {},
     "output_type": "execute_result"
    },
    {
     "data": {
      "image/png": "[encoded data removed]",
      "text/plain": [
       "<Figure size 432x288 with 1 Axes>"
      ]
     },
     "metadata": {
      "needs_background": "light"
     },
     "output_type": "display_data"
    }
   ],
   "source": [
    "sns.boxplot(x='location_y',data=df1)"
   ]
  },
  {
   "cell_type": "code",
   "execution_count": 651,
   "id": "e8294241",
   "metadata": {},
   "outputs": [
    {
     "data": {
      "text/plain": [
       "0.0      5324\n",
       "7.0       239\n",
       "12.0      215\n",
       "3.0       207\n",
       "15.0      196\n",
       "         ... \n",
       "358.0       1\n",
       "564.0       1\n",
       "444.0       1\n",
       "330.0       1\n",
       "679.0       1\n",
       "Name: location_y, Length: 450, dtype: int64"
      ]
     },
     "execution_count": 651,
     "metadata": {},
     "output_type": "execute_result"
    }
   ],
   "source": [
    "df1['location_y'].value_counts()"
   ]
  },
  {
   "cell_type": "code",
   "execution_count": 652,
   "id": "2115fea2",
   "metadata": {},
   "outputs": [],
   "source": [
    "df1['location_x'].fillna(df1['location_x'].mode()[0], inplace=True)"
   ]
  },
  {
   "cell_type": "code",
   "execution_count": 653,
   "id": "9bd02ea2",
   "metadata": {},
   "outputs": [
    {
     "data": {
      "text/plain": [
       "0        167.0\n",
       "1       -157.0\n",
       "2       -101.0\n",
       "3        138.0\n",
       "4          0.0\n",
       "         ...  \n",
       "30692      1.0\n",
       "30693      0.0\n",
       "30694   -134.0\n",
       "30695     31.0\n",
       "30696      1.0\n",
       "Name: location_x, Length: 30697, dtype: float64"
      ]
     },
     "execution_count": 653,
     "metadata": {},
     "output_type": "execute_result"
    }
   ],
   "source": [
    "df1['location_x']"
   ]
  },
  {
   "cell_type": "code",
   "execution_count": 654,
   "id": "e3bc88ba",
   "metadata": {},
   "outputs": [],
   "source": [
    "df1['location_y'].fillna(df1['location_y'].mode()[0], inplace=True)"
   ]
  },
  {
   "cell_type": "code",
   "execution_count": 655,
   "id": "80be3460",
   "metadata": {},
   "outputs": [
    {
     "data": {
      "text/plain": [
       "0"
      ]
     },
     "execution_count": 655,
     "metadata": {},
     "output_type": "execute_result"
    }
   ],
   "source": [
    "df1['location_x'].isnull().sum()"
   ]
  },
  {
   "cell_type": "code",
   "execution_count": 656,
   "id": "6451d05d",
   "metadata": {},
   "outputs": [
    {
     "data": {
      "text/plain": [
       "<AxesSubplot:xlabel='location_x'>"
      ]
     },
     "execution_count": 656,
     "metadata": {},
     "output_type": "execute_result"
    },
    {
     "data": {
      "image/png": "[encoded data removed]",
      "text/plain": [
       "<Figure size 432x288 with 1 Axes>"
      ]
     },
     "metadata": {
      "needs_background": "light"
     },
     "output_type": "display_data"
    }
   ],
   "source": [
    "sns.boxplot(x='location_x',data=df1)"
   ]
  },
  {
   "cell_type": "code",
   "execution_count": 657,
   "id": "ec301039",
   "metadata": {},
   "outputs": [
    {
     "data": {
      "text/plain": [
       "<AxesSubplot:xlabel='location_y'>"
      ]
     },
     "execution_count": 657,
     "metadata": {},
     "output_type": "execute_result"
    },
    {
     "data": {
      "image/png": "[encoded data removed]",
      "text/plain": [
       "<Figure size 432x288 with 1 Axes>"
      ]
     },
     "metadata": {
      "needs_background": "light"
     },
     "output_type": "display_data"
    }
   ],
   "source": [
    "sns.boxplot(x='location_y',data=df1)"
   ]
  },
  {
   "cell_type": "code",
   "execution_count": 658,
   "id": "dbb93848",
   "metadata": {},
   "outputs": [
    {
     "data": {
      "text/plain": [
       "Unnamed: 0                   0\n",
       "match_event_id            1563\n",
       "location_x                   0\n",
       "location_y                   0\n",
       "remaining_min             1562\n",
       "power_of_shot             1486\n",
       "knockout_match            1517\n",
       "game_season               5862\n",
       "remaining_sec             1594\n",
       "distance_of_shot          1567\n",
       "is_goal                   6268\n",
       "area_of_shot              1502\n",
       "shot_basics               1575\n",
       "range_of_shot             1564\n",
       "team_name                 1535\n",
       "date_of_game              1550\n",
       "home/away                 1497\n",
       "shot_id_number            1563\n",
       "lat/lng                   1565\n",
       "type_of_shot             15280\n",
       "type_of_combined_shot    15417\n",
       "match_id                     0\n",
       "team_id                      0\n",
       "remaining_min.1           1535\n",
       "power_of_shot.1           1539\n",
       "knockout_match.1          1493\n",
       "remaining_sec.1           1539\n",
       "distance_of_shot.1        1568\n",
       "dtype: int64"
      ]
     },
     "execution_count": 658,
     "metadata": {},
     "output_type": "execute_result"
    }
   ],
   "source": [
    "df1.isnull().sum()"
   ]
  },
  {
   "cell_type": "code",
   "execution_count": null,
   "id": "2bd8af16",
   "metadata": {},
   "outputs": [],
   "source": []
  },
  {
   "cell_type": "markdown",
   "id": "873bd477",
   "metadata": {},
   "source": [
    "remaining minutes \n",
    "\n",
    "replace nan value with median() value."
   ]
  },
  {
   "cell_type": "code",
   "execution_count": 659,
   "id": "78e75fd2",
   "metadata": {},
   "outputs": [
    {
     "data": {
      "text/plain": [
       "array([10.,  7.,  6., nan,  9.,  8.,  3.,  1., 11.,  0.,  5.,  2.,  4.])"
      ]
     },
     "execution_count": 659,
     "metadata": {},
     "output_type": "execute_result"
    }
   ],
   "source": [
    "df1['remaining_min'].unique()"
   ]
  },
  {
   "cell_type": "code",
   "execution_count": 660,
   "id": "7c906b99",
   "metadata": {},
   "outputs": [
    {
     "data": {
      "text/plain": [
       "5.0"
      ]
     },
     "execution_count": 660,
     "metadata": {},
     "output_type": "execute_result"
    }
   ],
   "source": [
    "df1['remaining_min'].median()"
   ]
  },
  {
   "cell_type": "code",
   "execution_count": 661,
   "id": "7f5ab71d",
   "metadata": {},
   "outputs": [],
   "source": [
    "df1['remaining_min'].fillna(df1['remaining_min'].median(),inplace=True)"
   ]
  },
  {
   "cell_type": "code",
   "execution_count": 662,
   "id": "58089645",
   "metadata": {},
   "outputs": [
    {
     "data": {
      "text/plain": [
       "array([10.,  7.,  6.,  5.,  9.,  8.,  3.,  1., 11.,  0.,  2.,  4.])"
      ]
     },
     "execution_count": 662,
     "metadata": {},
     "output_type": "execute_result"
    }
   ],
   "source": [
    "df1['remaining_min'].unique()"
   ]
  },
  {
   "cell_type": "code",
   "execution_count": null,
   "id": "8bba27ea",
   "metadata": {},
   "outputs": [],
   "source": []
  },
  {
   "cell_type": "code",
   "execution_count": 799,
   "id": "75b7877c",
   "metadata": {},
   "outputs": [
    {
     "data": {
      "text/plain": [
       "Index(['location_x', 'location_y', 'remaining_min', 'power_of_shot',\n",
       "       'knockout_match', 'game_season', 'remaining_sec', 'distance_of_shot',\n",
       "       'is_goal', 'area_of_shot', 'shot_basics', 'range_of_shot', 'team_name',\n",
       "       'type_of_shot', 'type_of_combined_shot', 'remaining_min.1',\n",
       "       'power_of_shot.1', 'knockout_match.1', 'remaining_sec.1',\n",
       "       'distance_of_shot.1', 'day', 'month', 'year', 'lat', 'long'],\n",
       "      dtype='object')"
      ]
     },
     "execution_count": 799,
     "metadata": {},
     "output_type": "execute_result"
    }
   ],
   "source": [
    "df1.columns"
   ]
  },
  {
   "cell_type": "code",
   "execution_count": null,
   "id": "582dbb70",
   "metadata": {},
   "outputs": [],
   "source": []
  },
  {
   "cell_type": "markdown",
   "id": "a9460e1e",
   "metadata": {},
   "source": [
    "power_of_shot clm:\n",
    "\n",
    "replace nan value with mode()\n"
   ]
  },
  {
   "cell_type": "code",
   "execution_count": 664,
   "id": "fad23f3f",
   "metadata": {},
   "outputs": [
    {
     "data": {
      "text/plain": [
       "array([ 1.,  2.,  3., nan,  4.,  5.,  6.,  7.])"
      ]
     },
     "execution_count": 664,
     "metadata": {},
     "output_type": "execute_result"
    }
   ],
   "source": [
    "df1['power_of_shot'].unique()"
   ]
  },
  {
   "cell_type": "code",
   "execution_count": 665,
   "id": "dfc5b1d6",
   "metadata": {},
   "outputs": [
    {
     "data": {
      "text/plain": [
       "2.51935914552737"
      ]
     },
     "execution_count": 665,
     "metadata": {},
     "output_type": "execute_result"
    }
   ],
   "source": [
    "df1['power_of_shot'].mean()"
   ]
  },
  {
   "cell_type": "code",
   "execution_count": 666,
   "id": "26e50d7c",
   "metadata": {},
   "outputs": [],
   "source": [
    "df1['power_of_shot'].fillna(df1['power_of_shot'].mean(),inplace=True)"
   ]
  },
  {
   "cell_type": "code",
   "execution_count": 667,
   "id": "8b79f1be",
   "metadata": {},
   "outputs": [
    {
     "data": {
      "text/plain": [
       "array([1.        , 2.        , 3.        , 2.51935915, 4.        ,\n",
       "       5.        , 6.        , 7.        ])"
      ]
     },
     "execution_count": 667,
     "metadata": {},
     "output_type": "execute_result"
    }
   ],
   "source": [
    "df1['power_of_shot'].unique()"
   ]
  },
  {
   "cell_type": "code",
   "execution_count": null,
   "id": "3e453f2e",
   "metadata": {},
   "outputs": [],
   "source": []
  },
  {
   "cell_type": "markdown",
   "id": "e8cd948d",
   "metadata": {},
   "source": [
    "knockout match:"
   ]
  },
  {
   "cell_type": "code",
   "execution_count": 668,
   "id": "234562f8",
   "metadata": {},
   "outputs": [
    {
     "data": {
      "text/plain": [
       "array([ 0., nan,  1.])"
      ]
     },
     "execution_count": 668,
     "metadata": {},
     "output_type": "execute_result"
    }
   ],
   "source": [
    "df1['knockout_match'].unique()"
   ]
  },
  {
   "cell_type": "code",
   "execution_count": 669,
   "id": "f15f271e",
   "metadata": {},
   "outputs": [
    {
     "data": {
      "text/plain": [
       "0.0"
      ]
     },
     "execution_count": 669,
     "metadata": {},
     "output_type": "execute_result"
    }
   ],
   "source": [
    "df1['knockout_match'].mode()[0]"
   ]
  },
  {
   "cell_type": "code",
   "execution_count": 670,
   "id": "66362159",
   "metadata": {},
   "outputs": [],
   "source": [
    "df1['knockout_match'].fillna(df1['knockout_match'].mode()[0],inplace=True)"
   ]
  },
  {
   "cell_type": "code",
   "execution_count": 671,
   "id": "d9f784c2",
   "metadata": {},
   "outputs": [
    {
     "data": {
      "text/plain": [
       "array([0., 1.])"
      ]
     },
     "execution_count": 671,
     "metadata": {},
     "output_type": "execute_result"
    }
   ],
   "source": [
    "df1['knockout_match'].unique()"
   ]
  },
  {
   "cell_type": "code",
   "execution_count": null,
   "id": "f238ee7f",
   "metadata": {},
   "outputs": [],
   "source": []
  },
  {
   "cell_type": "code",
   "execution_count": 672,
   "id": "864fce0e",
   "metadata": {},
   "outputs": [
    {
     "data": {
      "text/plain": [
       "Index(['Unnamed: 0', 'match_event_id', 'location_x', 'location_y',\n",
       "       'remaining_min', 'power_of_shot', 'knockout_match', 'game_season',\n",
       "       'remaining_sec', 'distance_of_shot', 'is_goal', 'area_of_shot',\n",
       "       'shot_basics', 'range_of_shot', 'team_name', 'date_of_game',\n",
       "       'home/away', 'shot_id_number', 'lat/lng', 'type_of_shot',\n",
       "       'type_of_combined_shot', 'match_id', 'team_id', 'remaining_min.1',\n",
       "       'power_of_shot.1', 'knockout_match.1', 'remaining_sec.1',\n",
       "       'distance_of_shot.1'],\n",
       "      dtype='object')"
      ]
     },
     "execution_count": 672,
     "metadata": {},
     "output_type": "execute_result"
    }
   ],
   "source": [
    "df1.columns"
   ]
  },
  {
   "cell_type": "code",
   "execution_count": null,
   "id": "1b446af2",
   "metadata": {},
   "outputs": [],
   "source": []
  },
  {
   "cell_type": "markdown",
   "id": "f8b4a2d0",
   "metadata": {},
   "source": [
    "game_season:\n",
    "\n"
   ]
  },
  {
   "cell_type": "code",
   "execution_count": 673,
   "id": "a34bbc4e",
   "metadata": {},
   "outputs": [
    {
     "data": {
      "text/plain": [
       "array(['2000-01', nan, '2001-02', '2002-03', '2003-04', '2004-05',\n",
       "       '2005-06', '2006-07', '2007-08', '2008-09', '2009-10', '2010-11',\n",
       "       '2011-12', '2012-13', '2013-14', '2014-15', '2015-16', '1996-97',\n",
       "       '1997-98', '1998-99', '1999-00'], dtype=object)"
      ]
     },
     "execution_count": 673,
     "metadata": {},
     "output_type": "execute_result"
    }
   ],
   "source": [
    "df1['game_season'].unique()"
   ]
  },
  {
   "cell_type": "code",
   "execution_count": 674,
   "id": "b8c6faef",
   "metadata": {},
   "outputs": [],
   "source": [
    "df1['game_season'].fillna(df1['game_season'].mode()[0],inplace=True)"
   ]
  },
  {
   "cell_type": "code",
   "execution_count": 675,
   "id": "459b9b3a",
   "metadata": {},
   "outputs": [
    {
     "data": {
      "text/plain": [
       "0"
      ]
     },
     "execution_count": 675,
     "metadata": {},
     "output_type": "execute_result"
    }
   ],
   "source": [
    "df1['game_season'].isnull().sum()"
   ]
  },
  {
   "cell_type": "code",
   "execution_count": 676,
   "id": "3f4d1ff7",
   "metadata": {},
   "outputs": [],
   "source": [
    "df1['game_season']=df1['game_season'].map({'2000-01':'1','2005-06':'2','2001-02':'3','2002-03':'4','2003-04':'5','2004-05':'6','2005-06':'7','2006-07':'8','2007-08':'9', '2008-09':'10', '2009-10':'11', '2010-11':'12',\n",
    "       '2011-12':'13', '2012-13':'14', '2013-14':'15', '2014-15':'16', '2015-16':'17', '1996-97':'18',\n",
    "       '1997-98':'19', '1998-99':'20', '1999-00':'21'})"
   ]
  },
  {
   "cell_type": "code",
   "execution_count": 677,
   "id": "3aaa3c61",
   "metadata": {},
   "outputs": [
    {
     "data": {
      "text/plain": [
       "0         1\n",
       "1         1\n",
       "2         1\n",
       "3         1\n",
       "4         1\n",
       "         ..\n",
       "30692    21\n",
       "30693    21\n",
       "30694    21\n",
       "30695    21\n",
       "30696    21\n",
       "Name: game_season, Length: 30697, dtype: object"
      ]
     },
     "execution_count": 677,
     "metadata": {},
     "output_type": "execute_result"
    }
   ],
   "source": [
    "df1['game_season']"
   ]
  },
  {
   "cell_type": "code",
   "execution_count": 678,
   "id": "be5d0db1",
   "metadata": {},
   "outputs": [
    {
     "data": {
      "text/plain": [
       "array(['1', '7', '3', '4', '5', '6', '8', '9', '10', '11', '12', '13',\n",
       "       '14', '15', '16', '17', '18', '19', '20', '21'], dtype=object)"
      ]
     },
     "execution_count": 678,
     "metadata": {},
     "output_type": "execute_result"
    }
   ],
   "source": [
    "df1['game_season'].unique()"
   ]
  },
  {
   "cell_type": "code",
   "execution_count": 679,
   "id": "deed5012",
   "metadata": {},
   "outputs": [],
   "source": [
    "df1['game_season']=df1['game_season'].astype(int)"
   ]
  },
  {
   "cell_type": "code",
   "execution_count": null,
   "id": "06aa3bf8",
   "metadata": {},
   "outputs": [],
   "source": []
  },
  {
   "cell_type": "markdown",
   "id": "7f58756c",
   "metadata": {},
   "source": [
    "remaining_sec:\n",
    "\n"
   ]
  },
  {
   "cell_type": "code",
   "execution_count": 680,
   "id": "abf08d8b",
   "metadata": {},
   "outputs": [
    {
     "data": {
      "text/plain": [
       "28.0"
      ]
     },
     "execution_count": 680,
     "metadata": {},
     "output_type": "execute_result"
    }
   ],
   "source": [
    "df1['remaining_sec'].median()"
   ]
  },
  {
   "cell_type": "code",
   "execution_count": 681,
   "id": "0c79a957",
   "metadata": {},
   "outputs": [],
   "source": [
    "df1['remaining_sec'].fillna(df1['remaining_sec'].median(),inplace=True)"
   ]
  },
  {
   "cell_type": "code",
   "execution_count": 682,
   "id": "6db38274",
   "metadata": {},
   "outputs": [
    {
     "data": {
      "text/plain": [
       "0"
      ]
     },
     "execution_count": 682,
     "metadata": {},
     "output_type": "execute_result"
    }
   ],
   "source": [
    "df1['remaining_sec'].isnull().sum()"
   ]
  },
  {
   "cell_type": "code",
   "execution_count": null,
   "id": "b8d9d61e",
   "metadata": {},
   "outputs": [],
   "source": []
  },
  {
   "cell_type": "markdown",
   "id": "5d9532ca",
   "metadata": {},
   "source": [
    "distance_of_shot:\n",
    "\n"
   ]
  },
  {
   "cell_type": "code",
   "execution_count": 683,
   "id": "0c540b1a",
   "metadata": {},
   "outputs": [
    {
     "data": {
      "text/plain": [
       "array([38., 35., 36., 42., 20., 34., 22., 32., 45., 37., nan, 29., 25.,\n",
       "       40., 31., 27., 46., 39., 28., 33., 21., 47., 48., 44., 43., 24.,\n",
       "       41., 67., 30., 49., 62., 23., 68., 50., 65., 26., 53., 56., 82.,\n",
       "       51., 90., 63., 58., 57., 60., 52., 76., 55., 75., 71., 88., 59.,\n",
       "       61., 84., 70., 69., 79., 80., 74., 94., 64., 81., 85., 72., 54.,\n",
       "       66., 78., 89., 77., 73., 87., 91., 97., 99.])"
      ]
     },
     "execution_count": 683,
     "metadata": {},
     "output_type": "execute_result"
    }
   ],
   "source": [
    "df1['distance_of_shot'].unique()"
   ]
  },
  {
   "cell_type": "code",
   "execution_count": 684,
   "id": "91259850",
   "metadata": {},
   "outputs": [],
   "source": [
    "df1['distance_of_shot'].fillna(df1['distance_of_shot'].mode()[0],inplace=True)"
   ]
  },
  {
   "cell_type": "code",
   "execution_count": 685,
   "id": "4fdbaf35",
   "metadata": {},
   "outputs": [
    {
     "data": {
      "text/plain": [
       "0"
      ]
     },
     "execution_count": 685,
     "metadata": {},
     "output_type": "execute_result"
    }
   ],
   "source": [
    "df1['distance_of_shot'].isnull().sum()"
   ]
  },
  {
   "cell_type": "code",
   "execution_count": null,
   "id": "e1714340",
   "metadata": {},
   "outputs": [],
   "source": []
  },
  {
   "cell_type": "markdown",
   "id": "bb1eb745",
   "metadata": {},
   "source": [
    "is_goal"
   ]
  },
  {
   "cell_type": "code",
   "execution_count": 686,
   "id": "b04f7b66",
   "metadata": {},
   "outputs": [
    {
     "data": {
      "text/plain": [
       "array([nan,  0.,  1.])"
      ]
     },
     "execution_count": 686,
     "metadata": {},
     "output_type": "execute_result"
    }
   ],
   "source": [
    "df1['is_goal'].unique()"
   ]
  },
  {
   "cell_type": "code",
   "execution_count": 687,
   "id": "29c6b86d",
   "metadata": {},
   "outputs": [],
   "source": [
    "df1['is_goal'].fillna(df1['is_goal'].mode()[0],inplace=True)"
   ]
  },
  {
   "cell_type": "code",
   "execution_count": 688,
   "id": "2cc94751",
   "metadata": {},
   "outputs": [
    {
     "data": {
      "text/plain": [
       "array([0., 1.])"
      ]
     },
     "execution_count": 688,
     "metadata": {},
     "output_type": "execute_result"
    }
   ],
   "source": [
    "df1['is_goal'].unique()"
   ]
  },
  {
   "cell_type": "code",
   "execution_count": null,
   "id": "bd54924e",
   "metadata": {},
   "outputs": [],
   "source": []
  },
  {
   "cell_type": "markdown",
   "id": "76d0a6de",
   "metadata": {},
   "source": [
    "area_of_shot:\n",
    "\n"
   ]
  },
  {
   "cell_type": "code",
   "execution_count": 689,
   "id": "3465d205",
   "metadata": {},
   "outputs": [
    {
     "data": {
      "text/plain": [
       "array(['Right Side(R)', 'Left Side(L)', 'Left Side Center(LC)',\n",
       "       'Right Side Center(RC)', 'Center(C)', nan, 'Mid Ground(MG)'],\n",
       "      dtype=object)"
      ]
     },
     "execution_count": 689,
     "metadata": {},
     "output_type": "execute_result"
    }
   ],
   "source": [
    "df1['area_of_shot'].unique()"
   ]
  },
  {
   "cell_type": "code",
   "execution_count": 690,
   "id": "b52f9d03",
   "metadata": {},
   "outputs": [],
   "source": [
    "df1['area_of_shot'].fillna(df1['area_of_shot'].mode()[0],inplace=True)"
   ]
  },
  {
   "cell_type": "code",
   "execution_count": 691,
   "id": "61185de6",
   "metadata": {},
   "outputs": [
    {
     "data": {
      "text/plain": [
       "0"
      ]
     },
     "execution_count": 691,
     "metadata": {},
     "output_type": "execute_result"
    }
   ],
   "source": [
    "df1['area_of_shot'].isnull().sum()"
   ]
  },
  {
   "cell_type": "code",
   "execution_count": 692,
   "id": "dfcb3fd3",
   "metadata": {},
   "outputs": [],
   "source": [
    "df1['area_of_shot']=df1['area_of_shot'].map({'Right Side(R)':'1', 'Left Side(L)':'2', 'Left Side Center(LC)':'3',\n",
    "       'Right Side Center(RC)':'4', 'Center(C)':'5', 'Mid Ground(MG)':'6'})"
   ]
  },
  {
   "cell_type": "code",
   "execution_count": 693,
   "id": "258b8909",
   "metadata": {},
   "outputs": [],
   "source": [
    "df1['area_of_shot']=df1['area_of_shot'].astype(int)"
   ]
  },
  {
   "cell_type": "code",
   "execution_count": 694,
   "id": "9fd08b21",
   "metadata": {},
   "outputs": [
    {
     "data": {
      "text/plain": [
       "0        1\n",
       "1        2\n",
       "2        3\n",
       "3        4\n",
       "4        5\n",
       "        ..\n",
       "30692    5\n",
       "30693    5\n",
       "30694    3\n",
       "30695    5\n",
       "30696    5\n",
       "Name: area_of_shot, Length: 30697, dtype: int32"
      ]
     },
     "execution_count": 694,
     "metadata": {},
     "output_type": "execute_result"
    }
   ],
   "source": [
    "df1['area_of_shot']"
   ]
  },
  {
   "cell_type": "code",
   "execution_count": null,
   "id": "f1db38fe",
   "metadata": {},
   "outputs": [],
   "source": []
  },
  {
   "cell_type": "code",
   "execution_count": 695,
   "id": "db484bac",
   "metadata": {},
   "outputs": [
    {
     "data": {
      "text/plain": [
       "Index(['Unnamed: 0', 'match_event_id', 'location_x', 'location_y',\n",
       "       'remaining_min', 'power_of_shot', 'knockout_match', 'game_season',\n",
       "       'remaining_sec', 'distance_of_shot', 'is_goal', 'area_of_shot',\n",
       "       'shot_basics', 'range_of_shot', 'team_name', 'date_of_game',\n",
       "       'home/away', 'shot_id_number', 'lat/lng', 'type_of_shot',\n",
       "       'type_of_combined_shot', 'match_id', 'team_id', 'remaining_min.1',\n",
       "       'power_of_shot.1', 'knockout_match.1', 'remaining_sec.1',\n",
       "       'distance_of_shot.1'],\n",
       "      dtype='object')"
      ]
     },
     "execution_count": 695,
     "metadata": {},
     "output_type": "execute_result"
    }
   ],
   "source": [
    "df1.columns"
   ]
  },
  {
   "cell_type": "code",
   "execution_count": null,
   "id": "b2129284",
   "metadata": {},
   "outputs": [],
   "source": []
  },
  {
   "cell_type": "markdown",
   "id": "10e9f499",
   "metadata": {},
   "source": [
    "shot_basics:\n",
    "\n"
   ]
  },
  {
   "cell_type": "code",
   "execution_count": 696,
   "id": "7fa09bb8",
   "metadata": {},
   "outputs": [
    {
     "data": {
      "text/plain": [
       "array(['Mid Range', 'Goal Area', 'Goal Line', 'Penalty Spot', nan,\n",
       "       'Right Corner', 'Mid Ground Line', 'Left Corner'], dtype=object)"
      ]
     },
     "execution_count": 696,
     "metadata": {},
     "output_type": "execute_result"
    }
   ],
   "source": [
    "df1['shot_basics'].unique()"
   ]
  },
  {
   "cell_type": "code",
   "execution_count": 697,
   "id": "e2d37176",
   "metadata": {},
   "outputs": [],
   "source": [
    "df1['shot_basics'].fillna(df1['shot_basics'].mode()[0],inplace=True)"
   ]
  },
  {
   "cell_type": "code",
   "execution_count": 698,
   "id": "56d061f4",
   "metadata": {},
   "outputs": [
    {
     "data": {
      "text/plain": [
       "array(['Mid Range', 'Goal Area', 'Goal Line', 'Penalty Spot',\n",
       "       'Right Corner', 'Mid Ground Line', 'Left Corner'], dtype=object)"
      ]
     },
     "execution_count": 698,
     "metadata": {},
     "output_type": "execute_result"
    }
   ],
   "source": [
    "df1['shot_basics'].unique()"
   ]
  },
  {
   "cell_type": "code",
   "execution_count": 699,
   "id": "3eb492e9",
   "metadata": {},
   "outputs": [],
   "source": [
    "df1['shot_basics']=df1['shot_basics'].map({'Mid Range':'1', 'Goal Area':'2', 'Goal Line':'3', 'Penalty Spot':'4',\n",
    "       'Right Corner':'5', 'Mid Ground Line':'6', 'Left Corner':'7'})"
   ]
  },
  {
   "cell_type": "code",
   "execution_count": 700,
   "id": "f704d007",
   "metadata": {},
   "outputs": [],
   "source": [
    "df1['shot_basics']=df1['shot_basics'].astype(int)"
   ]
  },
  {
   "cell_type": "code",
   "execution_count": 701,
   "id": "2565b4d6",
   "metadata": {},
   "outputs": [
    {
     "data": {
      "text/plain": [
       "array([1, 2, 3, 4, 5, 6, 7])"
      ]
     },
     "execution_count": 701,
     "metadata": {},
     "output_type": "execute_result"
    }
   ],
   "source": [
    "df1['shot_basics'].unique()"
   ]
  },
  {
   "cell_type": "code",
   "execution_count": null,
   "id": "50c71246",
   "metadata": {},
   "outputs": [],
   "source": []
  },
  {
   "cell_type": "markdown",
   "id": "fdcb3847",
   "metadata": {},
   "source": [
    "range_of_shot:\n",
    "\n"
   ]
  },
  {
   "cell_type": "code",
   "execution_count": 702,
   "id": "502aac17",
   "metadata": {},
   "outputs": [
    {
     "data": {
      "text/plain": [
       "array(['16-24 ft.', '8-16 ft.', 'Less Than 8 ft.', '24+ ft.', nan,\n",
       "       'Back Court Shot'], dtype=object)"
      ]
     },
     "execution_count": 702,
     "metadata": {},
     "output_type": "execute_result"
    }
   ],
   "source": [
    "df1['range_of_shot'].unique()"
   ]
  },
  {
   "cell_type": "code",
   "execution_count": 703,
   "id": "4435e4e9",
   "metadata": {},
   "outputs": [],
   "source": [
    "df1['range_of_shot'].fillna(df1['range_of_shot'].mode()[0],inplace=True)"
   ]
  },
  {
   "cell_type": "code",
   "execution_count": 704,
   "id": "43e15522",
   "metadata": {},
   "outputs": [
    {
     "data": {
      "text/plain": [
       "array(['16-24 ft.', '8-16 ft.', 'Less Than 8 ft.', '24+ ft.',\n",
       "       'Back Court Shot'], dtype=object)"
      ]
     },
     "execution_count": 704,
     "metadata": {},
     "output_type": "execute_result"
    }
   ],
   "source": [
    "df1['range_of_shot'].unique()"
   ]
  },
  {
   "cell_type": "code",
   "execution_count": 705,
   "id": "8005bc93",
   "metadata": {},
   "outputs": [],
   "source": [
    "df1['range_of_shot']=df1['range_of_shot'].map({'16-24 ft.':'1', '8-16 ft.':'2', 'Less Than 8 ft.':'3', '24+ ft.':'4',\n",
    "       'Back Court Shot':'5'})"
   ]
  },
  {
   "cell_type": "code",
   "execution_count": 706,
   "id": "b8b6771b",
   "metadata": {},
   "outputs": [],
   "source": [
    "df1['range_of_shot']=df1['range_of_shot'].astype(int)"
   ]
  },
  {
   "cell_type": "code",
   "execution_count": 707,
   "id": "a8f9edf7",
   "metadata": {},
   "outputs": [
    {
     "data": {
      "text/plain": [
       "array([1, 2, 3, 4, 5])"
      ]
     },
     "execution_count": 707,
     "metadata": {},
     "output_type": "execute_result"
    }
   ],
   "source": [
    "df1['range_of_shot'].unique()"
   ]
  },
  {
   "cell_type": "code",
   "execution_count": null,
   "id": "26d0b8c1",
   "metadata": {},
   "outputs": [],
   "source": []
  },
  {
   "cell_type": "markdown",
   "id": "e7a482b7",
   "metadata": {},
   "source": [
    "team_name:\n",
    "\n"
   ]
  },
  {
   "cell_type": "code",
   "execution_count": 708,
   "id": "2eccc894",
   "metadata": {},
   "outputs": [
    {
     "data": {
      "text/plain": [
       "array(['Manchester United', nan], dtype=object)"
      ]
     },
     "execution_count": 708,
     "metadata": {},
     "output_type": "execute_result"
    }
   ],
   "source": [
    "df1['team_name'].unique()"
   ]
  },
  {
   "cell_type": "code",
   "execution_count": 709,
   "id": "d4aa24d7",
   "metadata": {},
   "outputs": [],
   "source": [
    "df1['team_name'].fillna(df1['team_name'].mode()[0],inplace=True)"
   ]
  },
  {
   "cell_type": "code",
   "execution_count": 710,
   "id": "a22fd7be",
   "metadata": {},
   "outputs": [
    {
     "data": {
      "text/plain": [
       "array(['Manchester United'], dtype=object)"
      ]
     },
     "execution_count": 710,
     "metadata": {},
     "output_type": "execute_result"
    }
   ],
   "source": [
    "df1['team_name'].unique()"
   ]
  },
  {
   "cell_type": "code",
   "execution_count": 711,
   "id": "c0e26c78",
   "metadata": {},
   "outputs": [],
   "source": [
    "df1['team_name']=df1['team_name'].map({'Manchester United':1})"
   ]
  },
  {
   "cell_type": "code",
   "execution_count": 712,
   "id": "19c5d818",
   "metadata": {},
   "outputs": [],
   "source": [
    "df1['team_name']=df1['team_name'].astype(int)"
   ]
  },
  {
   "cell_type": "code",
   "execution_count": 713,
   "id": "84f5fb91",
   "metadata": {},
   "outputs": [
    {
     "data": {
      "text/plain": [
       "array([1])"
      ]
     },
     "execution_count": 713,
     "metadata": {},
     "output_type": "execute_result"
    }
   ],
   "source": [
    "df1['team_name'].unique()"
   ]
  },
  {
   "cell_type": "code",
   "execution_count": null,
   "id": "8a02fa5b",
   "metadata": {},
   "outputs": [],
   "source": []
  },
  {
   "cell_type": "markdown",
   "id": "f86a26e1",
   "metadata": {},
   "source": [
    "date_of_game:\n",
    "\n",
    "date of game is repeted so many times here, so in nan replace mode() value of column."
   ]
  },
  {
   "cell_type": "code",
   "execution_count": 714,
   "id": "e9f0731b",
   "metadata": {},
   "outputs": [
    {
     "data": {
      "text/plain": [
       "0        2000-10-31\n",
       "1        2000-10-31\n",
       "2        2000-10-31\n",
       "3        2000-10-31\n",
       "4        2000-10-31\n",
       "            ...    \n",
       "30692    2000-06-19\n",
       "30693    2000-06-19\n",
       "30694    2000-06-19\n",
       "30695    2000-06-19\n",
       "30696    2000-06-19\n",
       "Name: date_of_game, Length: 30697, dtype: object"
      ]
     },
     "execution_count": 714,
     "metadata": {},
     "output_type": "execute_result"
    }
   ],
   "source": [
    "df1['date_of_game']"
   ]
  },
  {
   "cell_type": "code",
   "execution_count": 715,
   "id": "ca8d86f9",
   "metadata": {},
   "outputs": [
    {
     "data": {
      "text/plain": [
       "1550"
      ]
     },
     "execution_count": 715,
     "metadata": {},
     "output_type": "execute_result"
    }
   ],
   "source": [
    "df1['date_of_game'].isnull().sum()"
   ]
  },
  {
   "cell_type": "code",
   "execution_count": 716,
   "id": "7cb244d5",
   "metadata": {},
   "outputs": [],
   "source": [
    "df1['date_of_game'].fillna(df1['date_of_game'].mode()[0],inplace=True)"
   ]
  },
  {
   "cell_type": "code",
   "execution_count": 717,
   "id": "46627243",
   "metadata": {},
   "outputs": [
    {
     "data": {
      "text/plain": [
       "0"
      ]
     },
     "execution_count": 717,
     "metadata": {},
     "output_type": "execute_result"
    }
   ],
   "source": [
    "df1['date_of_game'].isnull().sum()"
   ]
  },
  {
   "cell_type": "code",
   "execution_count": 718,
   "id": "0f723e8f",
   "metadata": {},
   "outputs": [],
   "source": [
    "##convert date of game column into 3 sep. columns day, month, year."
   ]
  },
  {
   "cell_type": "code",
   "execution_count": 719,
   "id": "2c7de2dd",
   "metadata": {},
   "outputs": [
    {
     "data": {
      "text/plain": [
       "0        31\n",
       "1        31\n",
       "2        31\n",
       "3        31\n",
       "4        31\n",
       "         ..\n",
       "30692    19\n",
       "30693    19\n",
       "30694    19\n",
       "30695    19\n",
       "30696    19\n",
       "Name: date_of_game, Length: 30697, dtype: object"
      ]
     },
     "execution_count": 719,
     "metadata": {},
     "output_type": "execute_result"
    }
   ],
   "source": [
    "df1['date_of_game'].str.split('-').str[2]"
   ]
  },
  {
   "cell_type": "code",
   "execution_count": 720,
   "id": "d08cde6f",
   "metadata": {},
   "outputs": [],
   "source": [
    "df1['day']=df1['date_of_game'].str.split('-').str[2]\n",
    "df1['month']=df1['date_of_game'].str.split('-').str[1]\n",
    "df1['year']=df1['date_of_game'].str.split('-').str[0]"
   ]
  },
  {
   "cell_type": "code",
   "execution_count": 721,
   "id": "9362f0d8",
   "metadata": {},
   "outputs": [],
   "source": [
    "df1['day']=df1['day'].astype(int)\n",
    "df1['month']=df1['month'].astype(int)\n",
    "df1['year']=df1['year'].astype(int)\n"
   ]
  },
  {
   "cell_type": "code",
   "execution_count": 722,
   "id": "ea3b38db",
   "metadata": {},
   "outputs": [
    {
     "name": "stdout",
     "output_type": "stream",
     "text": [
      "<class 'pandas.core.frame.DataFrame'>\n",
      "RangeIndex: 30697 entries, 0 to 30696\n",
      "Data columns (total 31 columns):\n",
      " #   Column                 Non-Null Count  Dtype  \n",
      "---  ------                 --------------  -----  \n",
      " 0   Unnamed: 0             30697 non-null  int64  \n",
      " 1   match_event_id         29134 non-null  float64\n",
      " 2   location_x             30697 non-null  float64\n",
      " 3   location_y             30697 non-null  float64\n",
      " 4   remaining_min          30697 non-null  float64\n",
      " 5   power_of_shot          30697 non-null  float64\n",
      " 6   knockout_match         30697 non-null  float64\n",
      " 7   game_season            30697 non-null  int32  \n",
      " 8   remaining_sec          30697 non-null  float64\n",
      " 9   distance_of_shot       30697 non-null  float64\n",
      " 10  is_goal                30697 non-null  float64\n",
      " 11  area_of_shot           30697 non-null  int32  \n",
      " 12  shot_basics            30697 non-null  int32  \n",
      " 13  range_of_shot          30697 non-null  int32  \n",
      " 14  team_name              30697 non-null  int32  \n",
      " 15  date_of_game           30697 non-null  object \n",
      " 16  home/away              29200 non-null  object \n",
      " 17  shot_id_number         29134 non-null  float64\n",
      " 18  lat/lng                29132 non-null  object \n",
      " 19  type_of_shot           15417 non-null  object \n",
      " 20  type_of_combined_shot  15280 non-null  object \n",
      " 21  match_id               30697 non-null  int64  \n",
      " 22  team_id                30697 non-null  int64  \n",
      " 23  remaining_min.1        29162 non-null  float64\n",
      " 24  power_of_shot.1        29158 non-null  float64\n",
      " 25  knockout_match.1       29204 non-null  float64\n",
      " 26  remaining_sec.1        29158 non-null  float64\n",
      " 27  distance_of_shot.1     29129 non-null  float64\n",
      " 28  day                    30697 non-null  int32  \n",
      " 29  month                  30697 non-null  int32  \n",
      " 30  year                   30697 non-null  int32  \n",
      "dtypes: float64(15), int32(8), int64(3), object(5)\n",
      "memory usage: 6.3+ MB\n"
     ]
    }
   ],
   "source": [
    "df1.info()"
   ]
  },
  {
   "cell_type": "code",
   "execution_count": 723,
   "id": "bbc3f959",
   "metadata": {},
   "outputs": [],
   "source": [
    "##drop columns match_event_id and date_of_game "
   ]
  },
  {
   "cell_type": "code",
   "execution_count": 724,
   "id": "2ae99a67",
   "metadata": {},
   "outputs": [],
   "source": [
    "df1.drop('date_of_game',axis=1,inplace=True)\n",
    "df1.drop('match_event_id',axis=1,inplace=True)"
   ]
  },
  {
   "cell_type": "code",
   "execution_count": null,
   "id": "1b88be7a",
   "metadata": {},
   "outputs": [],
   "source": []
  },
  {
   "cell_type": "markdown",
   "id": "54725522",
   "metadata": {},
   "source": [
    "home/away:\n",
    "\n"
   ]
  },
  {
   "cell_type": "code",
   "execution_count": 725,
   "id": "bf56e1b7",
   "metadata": {},
   "outputs": [
    {
     "data": {
      "text/plain": [
       "array(['MANU @ POR', nan, 'MANU vs. UTA', 'MANU @ VAN', 'MANU vs. LAC',\n",
       "       'MANU @ HOU', 'MANU @ SAS', 'MANU vs. HOU', 'MANU vs. DEN',\n",
       "       'MANU @ SAC', 'MANU @ DEN', 'MANU vs. CHI', 'MANU vs. GSW',\n",
       "       'MANU vs. MIN', 'MANU @ LAC', 'MANU vs. IND', 'MANU @ SEA',\n",
       "       'MANU vs. SAS', 'MANU vs. DAL', 'MANU vs. PHI', 'MANU @ GSW',\n",
       "       'MANU vs. SEA', 'MANU vs. DET', 'MANU vs. MIL', 'MANU vs. VAN',\n",
       "       'MANU @ TOR', 'MANU @ MIA', 'MANU @ DAL', 'MANU vs. POR',\n",
       "       'MANU @ PHX', 'MANU vs. CLE', 'MANU @ UTA', 'MANU vs. MIA',\n",
       "       'MANU vs. NJN', 'MANU @ NYK', 'MANU @ CLE', 'MANU @ MIN',\n",
       "       'MANU vs. CHH', 'MANU vs. SAC', 'MANU vs. PHX', 'MANU @ NJN',\n",
       "       'MANU @ PHI', 'MANU @ CHH', 'MANU @ IND', 'MANU vs. TOR',\n",
       "       'MANU @ DET', 'MANU @ WAS', 'MANU @ ORL', 'MANU @ ATL',\n",
       "       'MANU @ MIL', 'MANU vs. NYK', 'MANU vs. MEM', 'MANU vs. ORL',\n",
       "       'MANU @ MEM', 'MANU @ CHI', 'MANU vs. WAS', 'MANU vs. ATL',\n",
       "       'MANU vs. BOS', 'MANU @ BOS', 'MANU vs. NOH', 'MANU @ NOH',\n",
       "       'MANU @ UTH', 'MANU vs. SAN', 'MANU @ NOK', 'MANU @ PHO',\n",
       "       'MANU vs. NOK', 'MANU vs. PHO', 'MANU @ CHA', 'MANU vs. CHA',\n",
       "       'MANU vs. OKC', 'MANU @ OKC', 'MANU vs. BKN', 'MANU @ BKN',\n",
       "       'MANU @ NOP', 'MANU vs. NOP'], dtype=object)"
      ]
     },
     "execution_count": 725,
     "metadata": {},
     "output_type": "execute_result"
    }
   ],
   "source": [
    "df1['home/away'].unique()"
   ]
  },
  {
   "cell_type": "code",
   "execution_count": 726,
   "id": "49bc0784",
   "metadata": {},
   "outputs": [
    {
     "data": {
      "text/plain": [
       "array(['MANU vs. POR', nan, 'MANU vs. UTA', 'MANU vs. VAN',\n",
       "       'MANU vs. LAC', 'MANU vs. HOU', 'MANU vs. SAS', 'MANU vs. DEN',\n",
       "       'MANU vs. SAC', 'MANU vs. CHI', 'MANU vs. GSW', 'MANU vs. MIN',\n",
       "       'MANU vs. IND', 'MANU vs. SEA', 'MANU vs. DAL', 'MANU vs. PHI',\n",
       "       'MANU vs. DET', 'MANU vs. MIL', 'MANU vs. TOR', 'MANU vs. MIA',\n",
       "       'MANU vs. PHX', 'MANU vs. CLE', 'MANU vs. NJN', 'MANU vs. NYK',\n",
       "       'MANU vs. CHH', 'MANU vs. WAS', 'MANU vs. ORL', 'MANU vs. ATL',\n",
       "       'MANU vs. MEM', 'MANU vs. BOS', 'MANU vs. NOH', 'MANU vs. UTH',\n",
       "       'MANU vs. SAN', 'MANU vs. NOK', 'MANU vs. PHO', 'MANU vs. CHA',\n",
       "       'MANU vs. OKC', 'MANU vs. BKN', 'MANU vs. NOP'], dtype=object)"
      ]
     },
     "execution_count": 726,
     "metadata": {},
     "output_type": "execute_result"
    }
   ],
   "source": [
    "df1['home/away'].str.replace('@','vs.').unique()"
   ]
  },
  {
   "cell_type": "code",
   "execution_count": 727,
   "id": "56360ed0",
   "metadata": {},
   "outputs": [],
   "source": [
    "#drop home/away column"
   ]
  },
  {
   "cell_type": "code",
   "execution_count": 728,
   "id": "2c4a7bc0",
   "metadata": {},
   "outputs": [],
   "source": [
    "df1.drop('home/away',axis=1,inplace=True)"
   ]
  },
  {
   "cell_type": "code",
   "execution_count": null,
   "id": "fd647f6c",
   "metadata": {},
   "outputs": [],
   "source": []
  },
  {
   "cell_type": "markdown",
   "id": "f4e05c5c",
   "metadata": {},
   "source": [
    "shot_id_number:\n",
    "\n",
    "\n",
    "drop shot_id_number column"
   ]
  },
  {
   "cell_type": "code",
   "execution_count": 729,
   "id": "1a8e8d63",
   "metadata": {},
   "outputs": [
    {
     "data": {
      "text/plain": [
       "0            1.0\n",
       "1            2.0\n",
       "2            3.0\n",
       "3            4.0\n",
       "4            5.0\n",
       "          ...   \n",
       "30692        NaN\n",
       "30693    30694.0\n",
       "30694    30695.0\n",
       "30695    30696.0\n",
       "30696    30697.0\n",
       "Name: shot_id_number, Length: 30697, dtype: float64"
      ]
     },
     "execution_count": 729,
     "metadata": {},
     "output_type": "execute_result"
    }
   ],
   "source": [
    "df1['shot_id_number']"
   ]
  },
  {
   "cell_type": "code",
   "execution_count": 730,
   "id": "04723059",
   "metadata": {},
   "outputs": [],
   "source": [
    "df1.drop('shot_id_number',axis=1,inplace=True)"
   ]
  },
  {
   "cell_type": "code",
   "execution_count": null,
   "id": "80aaaa88",
   "metadata": {},
   "outputs": [],
   "source": []
  },
  {
   "cell_type": "code",
   "execution_count": 731,
   "id": "de0970eb",
   "metadata": {},
   "outputs": [
    {
     "name": "stdout",
     "output_type": "stream",
     "text": [
      "<class 'pandas.core.frame.DataFrame'>\n",
      "RangeIndex: 30697 entries, 0 to 30696\n",
      "Data columns (total 27 columns):\n",
      " #   Column                 Non-Null Count  Dtype  \n",
      "---  ------                 --------------  -----  \n",
      " 0   Unnamed: 0             30697 non-null  int64  \n",
      " 1   location_x             30697 non-null  float64\n",
      " 2   location_y             30697 non-null  float64\n",
      " 3   remaining_min          30697 non-null  float64\n",
      " 4   power_of_shot          30697 non-null  float64\n",
      " 5   knockout_match         30697 non-null  float64\n",
      " 6   game_season            30697 non-null  int32  \n",
      " 7   remaining_sec          30697 non-null  float64\n",
      " 8   distance_of_shot       30697 non-null  float64\n",
      " 9   is_goal                30697 non-null  float64\n",
      " 10  area_of_shot           30697 non-null  int32  \n",
      " 11  shot_basics            30697 non-null  int32  \n",
      " 12  range_of_shot          30697 non-null  int32  \n",
      " 13  team_name              30697 non-null  int32  \n",
      " 14  lat/lng                29132 non-null  object \n",
      " 15  type_of_shot           15417 non-null  object \n",
      " 16  type_of_combined_shot  15280 non-null  object \n",
      " 17  match_id               30697 non-null  int64  \n",
      " 18  team_id                30697 non-null  int64  \n",
      " 19  remaining_min.1        29162 non-null  float64\n",
      " 20  power_of_shot.1        29158 non-null  float64\n",
      " 21  knockout_match.1       29204 non-null  float64\n",
      " 22  remaining_sec.1        29158 non-null  float64\n",
      " 23  distance_of_shot.1     29129 non-null  float64\n",
      " 24  day                    30697 non-null  int32  \n",
      " 25  month                  30697 non-null  int32  \n",
      " 26  year                   30697 non-null  int32  \n",
      "dtypes: float64(13), int32(8), int64(3), object(3)\n",
      "memory usage: 5.4+ MB\n"
     ]
    }
   ],
   "source": [
    "df1.info()"
   ]
  },
  {
   "cell_type": "code",
   "execution_count": null,
   "id": "fc557abe",
   "metadata": {},
   "outputs": [],
   "source": [
    "\n"
   ]
  },
  {
   "cell_type": "markdown",
   "id": "c47bc0e7",
   "metadata": {},
   "source": [
    "df1['lat/lng']:\n"
   ]
  },
  {
   "cell_type": "code",
   "execution_count": 732,
   "id": "5a31e7ac",
   "metadata": {},
   "outputs": [
    {
     "data": {
      "text/plain": [
       "0        45.539131, -122.651648\n",
       "1        45.539131, -122.651648\n",
       "2        45.539131, -122.651648\n",
       "3        45.539131, -122.651648\n",
       "4        45.539131, -122.651648\n",
       "                  ...          \n",
       "30692     42.982923, -71.446094\n",
       "30693     42.982923, -71.446094\n",
       "30694                       NaN\n",
       "30695     42.982923, -71.446094\n",
       "30696     42.982923, -71.446094\n",
       "Name: lat/lng, Length: 30697, dtype: object"
      ]
     },
     "execution_count": 732,
     "metadata": {},
     "output_type": "execute_result"
    }
   ],
   "source": [
    "df1['lat/lng']"
   ]
  },
  {
   "cell_type": "code",
   "execution_count": 733,
   "id": "43ba0851",
   "metadata": {},
   "outputs": [
    {
     "data": {
      "text/plain": [
       "array(['45.539131, -122.651648', '42.982923, -71.446094',\n",
       "       '49.250068, -123.114646', nan, '29.740325, -95.365762',\n",
       "       '29.444994, -98.524120', '38.567296, -121.456638',\n",
       "       '39.739968, -104.954013', '34.189593, -118.471724',\n",
       "       '47.633181, -122.308343', '37.754130, -122.437947',\n",
       "       '43.717098, -79.395917', '25.790710, -80.207819',\n",
       "       '32.757824, -96.786653', '33.552026, -112.071667',\n",
       "       '40.774891, -111.930790', '40.708999, -73.872430',\n",
       "       '41.484971, -81.671552', '46.667324, -94.419250',\n",
       "       '40.643505, -73.939507', '39.993941, -75.143458',\n",
       "       '35.205878, -80.841194', '40.361408, -86.186052',\n",
       "       '42.379455, -83.115635', '38.919619, -77.015211',\n",
       "       '28.549237, -81.372780', '33.768092, -84.393817',\n",
       "       '43.062206, -87.944754', '35.103812, -89.964007',\n",
       "       '41.845137, -87.660450', '42.330507, -71.074655',\n",
       "       '30.018061, -90.022651', '40.324211, -111.674849',\n",
       "       '30.028164, -89.997933', '33.513157, -112.082793',\n",
       "       '35.262047, -80.865746', '35.492151, -97.519011',\n",
       "       '40.623199, -73.951223', '30.055498, -89.960838'], dtype=object)"
      ]
     },
     "execution_count": 733,
     "metadata": {},
     "output_type": "execute_result"
    }
   ],
   "source": [
    "df1['lat/lng'].unique()"
   ]
  },
  {
   "cell_type": "code",
   "execution_count": 734,
   "id": "09c22910",
   "metadata": {},
   "outputs": [],
   "source": [
    "df1['lat/lng'].fillna(df1['lat/lng'].mode()[0],inplace=True)"
   ]
  },
  {
   "cell_type": "code",
   "execution_count": 735,
   "id": "0321adb2",
   "metadata": {},
   "outputs": [
    {
     "data": {
      "text/plain": [
       "0"
      ]
     },
     "execution_count": 735,
     "metadata": {},
     "output_type": "execute_result"
    }
   ],
   "source": [
    "df1['lat/lng'].isnull().sum()"
   ]
  },
  {
   "cell_type": "code",
   "execution_count": 736,
   "id": "c018c513",
   "metadata": {},
   "outputs": [],
   "source": [
    "#split it into two seperate lat, long columns "
   ]
  },
  {
   "cell_type": "code",
   "execution_count": 737,
   "id": "f6d819e1",
   "metadata": {},
   "outputs": [],
   "source": [
    "df1['lat']=df1['lat/lng'].str.split(',').str[0]"
   ]
  },
  {
   "cell_type": "code",
   "execution_count": 738,
   "id": "ff77d8b4",
   "metadata": {},
   "outputs": [
    {
     "data": {
      "text/plain": [
       "array(['45.539131', '42.982923', '49.250068', '29.740325', '29.444994',\n",
       "       '38.567296', '39.739968', '34.189593', '47.633181', '37.754130',\n",
       "       '43.717098', '25.790710', '32.757824', '33.552026', '40.774891',\n",
       "       '40.708999', '41.484971', '46.667324', '40.643505', '39.993941',\n",
       "       '35.205878', '40.361408', '42.379455', '38.919619', '28.549237',\n",
       "       '33.768092', '43.062206', '35.103812', '41.845137', '42.330507',\n",
       "       '30.018061', '40.324211', '30.028164', '33.513157', '35.262047',\n",
       "       '35.492151', '40.623199', '30.055498'], dtype=object)"
      ]
     },
     "execution_count": 738,
     "metadata": {},
     "output_type": "execute_result"
    }
   ],
   "source": [
    "df1['lat'].unique()"
   ]
  },
  {
   "cell_type": "code",
   "execution_count": 739,
   "id": "3d1ccbc4",
   "metadata": {},
   "outputs": [],
   "source": [
    "df1['long']=df1['lat/lng'].str.split(' ').str[1]"
   ]
  },
  {
   "cell_type": "code",
   "execution_count": 740,
   "id": "0ed7ac59",
   "metadata": {},
   "outputs": [
    {
     "data": {
      "text/plain": [
       "0"
      ]
     },
     "execution_count": 740,
     "metadata": {},
     "output_type": "execute_result"
    }
   ],
   "source": [
    "df1['long'].isnull().sum()"
   ]
  },
  {
   "cell_type": "code",
   "execution_count": null,
   "id": "17444453",
   "metadata": {},
   "outputs": [],
   "source": []
  },
  {
   "cell_type": "code",
   "execution_count": 741,
   "id": "0e2b3ae1",
   "metadata": {},
   "outputs": [],
   "source": [
    "df1['lat']=df1['lat'].apply(lambda x:float(x))\n",
    "df1['long']=df1['long'].apply(lambda x:float(x))"
   ]
  },
  {
   "cell_type": "code",
   "execution_count": 742,
   "id": "debd8d1a",
   "metadata": {},
   "outputs": [
    {
     "data": {
      "text/plain": [
       "0        45.539131\n",
       "1        45.539131\n",
       "2        45.539131\n",
       "3        45.539131\n",
       "4        45.539131\n",
       "           ...    \n",
       "30692    42.982923\n",
       "30693    42.982923\n",
       "30694    42.982923\n",
       "30695    42.982923\n",
       "30696    42.982923\n",
       "Name: lat, Length: 30697, dtype: float64"
      ]
     },
     "execution_count": 742,
     "metadata": {},
     "output_type": "execute_result"
    }
   ],
   "source": [
    "df1['lat']"
   ]
  },
  {
   "cell_type": "code",
   "execution_count": 743,
   "id": "2aa32f54",
   "metadata": {},
   "outputs": [
    {
     "data": {
      "text/plain": [
       "0       -122.651648\n",
       "1       -122.651648\n",
       "2       -122.651648\n",
       "3       -122.651648\n",
       "4       -122.651648\n",
       "            ...    \n",
       "30692    -71.446094\n",
       "30693    -71.446094\n",
       "30694    -71.446094\n",
       "30695    -71.446094\n",
       "30696    -71.446094\n",
       "Name: long, Length: 30697, dtype: float64"
      ]
     },
     "execution_count": 743,
     "metadata": {},
     "output_type": "execute_result"
    }
   ],
   "source": [
    "df1['long']"
   ]
  },
  {
   "cell_type": "code",
   "execution_count": 744,
   "id": "39cd92fd",
   "metadata": {},
   "outputs": [],
   "source": [
    "#drop log/long column"
   ]
  },
  {
   "cell_type": "code",
   "execution_count": 745,
   "id": "68bdbc2b",
   "metadata": {},
   "outputs": [
    {
     "data": {
      "text/plain": [
       "0        45.539131, -122.651648\n",
       "1        45.539131, -122.651648\n",
       "2        45.539131, -122.651648\n",
       "3        45.539131, -122.651648\n",
       "4        45.539131, -122.651648\n",
       "                  ...          \n",
       "30692     42.982923, -71.446094\n",
       "30693     42.982923, -71.446094\n",
       "30694     42.982923, -71.446094\n",
       "30695     42.982923, -71.446094\n",
       "30696     42.982923, -71.446094\n",
       "Name: lat/lng, Length: 30697, dtype: object"
      ]
     },
     "execution_count": 745,
     "metadata": {},
     "output_type": "execute_result"
    }
   ],
   "source": [
    "df1['lat/lng']"
   ]
  },
  {
   "cell_type": "code",
   "execution_count": 746,
   "id": "df8fb848",
   "metadata": {},
   "outputs": [],
   "source": [
    "df1.drop('lat/lng',axis=1,inplace=True)"
   ]
  },
  {
   "cell_type": "code",
   "execution_count": null,
   "id": "32c0c6d0",
   "metadata": {},
   "outputs": [],
   "source": []
  },
  {
   "cell_type": "code",
   "execution_count": 747,
   "id": "44a1be74",
   "metadata": {},
   "outputs": [
    {
     "name": "stdout",
     "output_type": "stream",
     "text": [
      "<class 'pandas.core.frame.DataFrame'>\n",
      "RangeIndex: 30697 entries, 0 to 30696\n",
      "Data columns (total 28 columns):\n",
      " #   Column                 Non-Null Count  Dtype  \n",
      "---  ------                 --------------  -----  \n",
      " 0   Unnamed: 0             30697 non-null  int64  \n",
      " 1   location_x             30697 non-null  float64\n",
      " 2   location_y             30697 non-null  float64\n",
      " 3   remaining_min          30697 non-null  float64\n",
      " 4   power_of_shot          30697 non-null  float64\n",
      " 5   knockout_match         30697 non-null  float64\n",
      " 6   game_season            30697 non-null  int32  \n",
      " 7   remaining_sec          30697 non-null  float64\n",
      " 8   distance_of_shot       30697 non-null  float64\n",
      " 9   is_goal                30697 non-null  float64\n",
      " 10  area_of_shot           30697 non-null  int32  \n",
      " 11  shot_basics            30697 non-null  int32  \n",
      " 12  range_of_shot          30697 non-null  int32  \n",
      " 13  team_name              30697 non-null  int32  \n",
      " 14  type_of_shot           15417 non-null  object \n",
      " 15  type_of_combined_shot  15280 non-null  object \n",
      " 16  match_id               30697 non-null  int64  \n",
      " 17  team_id                30697 non-null  int64  \n",
      " 18  remaining_min.1        29162 non-null  float64\n",
      " 19  power_of_shot.1        29158 non-null  float64\n",
      " 20  knockout_match.1       29204 non-null  float64\n",
      " 21  remaining_sec.1        29158 non-null  float64\n",
      " 22  distance_of_shot.1     29129 non-null  float64\n",
      " 23  day                    30697 non-null  int32  \n",
      " 24  month                  30697 non-null  int32  \n",
      " 25  year                   30697 non-null  int32  \n",
      " 26  lat                    30697 non-null  float64\n",
      " 27  long                   30697 non-null  float64\n",
      "dtypes: float64(15), int32(8), int64(3), object(2)\n",
      "memory usage: 5.6+ MB\n"
     ]
    }
   ],
   "source": [
    "df1.info()"
   ]
  },
  {
   "cell_type": "code",
   "execution_count": null,
   "id": "0870ba62",
   "metadata": {},
   "outputs": [],
   "source": []
  },
  {
   "cell_type": "markdown",
   "id": "dde54b60",
   "metadata": {},
   "source": [
    "type_of_shot :\n",
    "\n"
   ]
  },
  {
   "cell_type": "code",
   "execution_count": 748,
   "id": "9b95adbd",
   "metadata": {},
   "outputs": [
    {
     "data": {
      "text/plain": [
       "array(['shot - 30', 'shot - 45', 'shot - 25', nan, 'shot - 17',\n",
       "       'shot - 36', 'shot - 44', 'shot - 7', 'shot - 12', 'shot - 6',\n",
       "       'shot - 4', 'shot - 20', 'shot - 24', 'shot - 54', 'shot - 42',\n",
       "       'shot - 34', 'shot - 39', 'shot - 1', 'shot - 37', 'shot - 14',\n",
       "       'shot - 21', 'shot - 9', 'shot - 0', 'shot - 2', 'shot - 22',\n",
       "       'shot - 15', 'shot - 10', 'shot - 49', 'shot - 51', 'shot - 52',\n",
       "       'shot - 46', 'shot - 32', 'shot - 11', 'shot - 56', 'shot - 47',\n",
       "       'shot - 3', 'shot - 53', 'shot - 5', 'shot - 41', 'shot - 40',\n",
       "       'shot - 19', 'shot - 16', 'shot - 55', 'shot - 23', 'shot - 43',\n",
       "       'shot - 29', 'shot - 35', 'shot - 31', 'shot - 13', 'shot - 38',\n",
       "       'shot - 26', 'shot - 28', 'shot - 33', 'shot - 50', 'shot - 8',\n",
       "       'shot - 48', 'shot - 18', 'shot - 27'], dtype=object)"
      ]
     },
     "execution_count": 748,
     "metadata": {},
     "output_type": "execute_result"
    }
   ],
   "source": [
    "df1['type_of_shot'].unique()"
   ]
  },
  {
   "cell_type": "code",
   "execution_count": 749,
   "id": "037ed3e3",
   "metadata": {},
   "outputs": [],
   "source": [
    "df1['type_of_shot'].fillna(df1['type_of_shot'].mode()[0],inplace=True)"
   ]
  },
  {
   "cell_type": "code",
   "execution_count": 750,
   "id": "812af1f3",
   "metadata": {},
   "outputs": [
    {
     "data": {
      "text/plain": [
       "0"
      ]
     },
     "execution_count": 750,
     "metadata": {},
     "output_type": "execute_result"
    }
   ],
   "source": [
    "df1['type_of_shot'].isnull().sum()"
   ]
  },
  {
   "cell_type": "code",
   "execution_count": 751,
   "id": "c72f397b",
   "metadata": {},
   "outputs": [],
   "source": [
    "df1['type_of_shot']=df1['type_of_shot'].str.split('- ').str[1]"
   ]
  },
  {
   "cell_type": "code",
   "execution_count": 752,
   "id": "b5f76866",
   "metadata": {},
   "outputs": [
    {
     "data": {
      "text/plain": [
       "0"
      ]
     },
     "execution_count": 752,
     "metadata": {},
     "output_type": "execute_result"
    }
   ],
   "source": [
    "df1['type_of_shot'].isnull().sum()"
   ]
  },
  {
   "cell_type": "code",
   "execution_count": null,
   "id": "9408751b",
   "metadata": {},
   "outputs": [],
   "source": []
  },
  {
   "cell_type": "code",
   "execution_count": 753,
   "id": "df1615c3",
   "metadata": {},
   "outputs": [],
   "source": [
    "df2=df1.copy()"
   ]
  },
  {
   "cell_type": "code",
   "execution_count": null,
   "id": "cc465353",
   "metadata": {},
   "outputs": [],
   "source": []
  },
  {
   "cell_type": "code",
   "execution_count": 754,
   "id": "0b19e4ce",
   "metadata": {},
   "outputs": [],
   "source": [
    "df1['type_of_shot']=df1['type_of_shot'].astype(int)"
   ]
  },
  {
   "cell_type": "code",
   "execution_count": 755,
   "id": "457dc4dc",
   "metadata": {},
   "outputs": [
    {
     "data": {
      "text/plain": [
       "array([30, 45, 25, 39, 17, 36, 44,  7, 12,  6,  4, 20, 24, 54, 42, 34,  1,\n",
       "       37, 14, 21,  9,  0,  2, 22, 15, 10, 49, 51, 52, 46, 32, 11, 56, 47,\n",
       "        3, 53,  5, 41, 40, 19, 16, 55, 23, 43, 29, 35, 31, 13, 38, 26, 28,\n",
       "       33, 50,  8, 48, 18, 27])"
      ]
     },
     "execution_count": 755,
     "metadata": {},
     "output_type": "execute_result"
    }
   ],
   "source": [
    "df1['type_of_shot'].unique()"
   ]
  },
  {
   "cell_type": "code",
   "execution_count": null,
   "id": "1136a8f5",
   "metadata": {},
   "outputs": [],
   "source": []
  },
  {
   "cell_type": "code",
   "execution_count": 756,
   "id": "518e236a",
   "metadata": {},
   "outputs": [
    {
     "data": {
      "text/html": [
       "<div>\n",
       "<style scoped>\n",
       "    .dataframe tbody tr th:only-of-type {\n",
       "        vertical-align: middle;\n",
       "    }\n",
       "\n",
       "    .dataframe tbody tr th {\n",
       "        vertical-align: top;\n",
       "    }\n",
       "\n",
       "    .dataframe thead th {\n",
       "        text-align: right;\n",
       "    }\n",
       "</style>\n",
       "<table border=\"1\" class=\"dataframe\">\n",
       "  <thead>\n",
       "    <tr style=\"text-align: right;\">\n",
       "      <th></th>\n",
       "      <th>Unnamed: 0</th>\n",
       "      <th>location_x</th>\n",
       "      <th>location_y</th>\n",
       "      <th>remaining_min</th>\n",
       "      <th>power_of_shot</th>\n",
       "      <th>knockout_match</th>\n",
       "      <th>game_season</th>\n",
       "      <th>remaining_sec</th>\n",
       "      <th>distance_of_shot</th>\n",
       "      <th>is_goal</th>\n",
       "      <th>...</th>\n",
       "      <th>remaining_min.1</th>\n",
       "      <th>power_of_shot.1</th>\n",
       "      <th>knockout_match.1</th>\n",
       "      <th>remaining_sec.1</th>\n",
       "      <th>distance_of_shot.1</th>\n",
       "      <th>day</th>\n",
       "      <th>month</th>\n",
       "      <th>year</th>\n",
       "      <th>lat</th>\n",
       "      <th>long</th>\n",
       "    </tr>\n",
       "  </thead>\n",
       "  <tbody>\n",
       "    <tr>\n",
       "      <th>0</th>\n",
       "      <td>0</td>\n",
       "      <td>167.0</td>\n",
       "      <td>72.0</td>\n",
       "      <td>10.0</td>\n",
       "      <td>1.0</td>\n",
       "      <td>0.0</td>\n",
       "      <td>1</td>\n",
       "      <td>27.0</td>\n",
       "      <td>38.0</td>\n",
       "      <td>0.0</td>\n",
       "      <td>...</td>\n",
       "      <td>10.00</td>\n",
       "      <td>1.0</td>\n",
       "      <td>50.608</td>\n",
       "      <td>54.2000</td>\n",
       "      <td>38.0</td>\n",
       "      <td>31</td>\n",
       "      <td>10</td>\n",
       "      <td>2000</td>\n",
       "      <td>45.539131</td>\n",
       "      <td>-122.651648</td>\n",
       "    </tr>\n",
       "    <tr>\n",
       "      <th>1</th>\n",
       "      <td>1</td>\n",
       "      <td>-157.0</td>\n",
       "      <td>0.0</td>\n",
       "      <td>10.0</td>\n",
       "      <td>1.0</td>\n",
       "      <td>0.0</td>\n",
       "      <td>1</td>\n",
       "      <td>22.0</td>\n",
       "      <td>35.0</td>\n",
       "      <td>0.0</td>\n",
       "      <td>...</td>\n",
       "      <td>10.00</td>\n",
       "      <td>1.0</td>\n",
       "      <td>28.800</td>\n",
       "      <td>22.0000</td>\n",
       "      <td>35.0</td>\n",
       "      <td>31</td>\n",
       "      <td>10</td>\n",
       "      <td>2000</td>\n",
       "      <td>45.539131</td>\n",
       "      <td>-122.651648</td>\n",
       "    </tr>\n",
       "    <tr>\n",
       "      <th>2</th>\n",
       "      <td>2</td>\n",
       "      <td>-101.0</td>\n",
       "      <td>135.0</td>\n",
       "      <td>7.0</td>\n",
       "      <td>1.0</td>\n",
       "      <td>0.0</td>\n",
       "      <td>1</td>\n",
       "      <td>45.0</td>\n",
       "      <td>36.0</td>\n",
       "      <td>1.0</td>\n",
       "      <td>...</td>\n",
       "      <td>92.64</td>\n",
       "      <td>1.0</td>\n",
       "      <td>0.000</td>\n",
       "      <td>63.7216</td>\n",
       "      <td>54.4</td>\n",
       "      <td>31</td>\n",
       "      <td>10</td>\n",
       "      <td>2000</td>\n",
       "      <td>45.539131</td>\n",
       "      <td>-122.651648</td>\n",
       "    </tr>\n",
       "    <tr>\n",
       "      <th>3</th>\n",
       "      <td>3</td>\n",
       "      <td>138.0</td>\n",
       "      <td>175.0</td>\n",
       "      <td>6.0</td>\n",
       "      <td>1.0</td>\n",
       "      <td>0.0</td>\n",
       "      <td>1</td>\n",
       "      <td>52.0</td>\n",
       "      <td>42.0</td>\n",
       "      <td>0.0</td>\n",
       "      <td>...</td>\n",
       "      <td>NaN</td>\n",
       "      <td>1.0</td>\n",
       "      <td>122.608</td>\n",
       "      <td>52.0000</td>\n",
       "      <td>42.0</td>\n",
       "      <td>31</td>\n",
       "      <td>10</td>\n",
       "      <td>2000</td>\n",
       "      <td>45.539131</td>\n",
       "      <td>-122.651648</td>\n",
       "    </tr>\n",
       "    <tr>\n",
       "      <th>4</th>\n",
       "      <td>4</td>\n",
       "      <td>0.0</td>\n",
       "      <td>0.0</td>\n",
       "      <td>5.0</td>\n",
       "      <td>2.0</td>\n",
       "      <td>0.0</td>\n",
       "      <td>1</td>\n",
       "      <td>19.0</td>\n",
       "      <td>20.0</td>\n",
       "      <td>1.0</td>\n",
       "      <td>...</td>\n",
       "      <td>42.64</td>\n",
       "      <td>2.0</td>\n",
       "      <td>0.000</td>\n",
       "      <td>19.0000</td>\n",
       "      <td>20.0</td>\n",
       "      <td>31</td>\n",
       "      <td>10</td>\n",
       "      <td>2000</td>\n",
       "      <td>45.539131</td>\n",
       "      <td>-122.651648</td>\n",
       "    </tr>\n",
       "  </tbody>\n",
       "</table>\n",
       "<p>5 rows × 28 columns</p>\n",
       "</div>"
      ],
      "text/plain": [
       "   Unnamed: 0  location_x  location_y  remaining_min  power_of_shot  \\\n",
       "0           0       167.0        72.0           10.0            1.0   \n",
       "1           1      -157.0         0.0           10.0            1.0   \n",
       "2           2      -101.0       135.0            7.0            1.0   \n",
       "3           3       138.0       175.0            6.0            1.0   \n",
       "4           4         0.0         0.0            5.0            2.0   \n",
       "\n",
       "   knockout_match  game_season  remaining_sec  distance_of_shot  is_goal  ...  \\\n",
       "0             0.0            1           27.0              38.0      0.0  ...   \n",
       "1             0.0            1           22.0              35.0      0.0  ...   \n",
       "2             0.0            1           45.0              36.0      1.0  ...   \n",
       "3             0.0            1           52.0              42.0      0.0  ...   \n",
       "4             0.0            1           19.0              20.0      1.0  ...   \n",
       "\n",
       "   remaining_min.1  power_of_shot.1  knockout_match.1  remaining_sec.1  \\\n",
       "0            10.00              1.0            50.608          54.2000   \n",
       "1            10.00              1.0            28.800          22.0000   \n",
       "2            92.64              1.0             0.000          63.7216   \n",
       "3              NaN              1.0           122.608          52.0000   \n",
       "4            42.64              2.0             0.000          19.0000   \n",
       "\n",
       "   distance_of_shot.1 day  month  year        lat        long  \n",
       "0                38.0  31     10  2000  45.539131 -122.651648  \n",
       "1                35.0  31     10  2000  45.539131 -122.651648  \n",
       "2                54.4  31     10  2000  45.539131 -122.651648  \n",
       "3                42.0  31     10  2000  45.539131 -122.651648  \n",
       "4                20.0  31     10  2000  45.539131 -122.651648  \n",
       "\n",
       "[5 rows x 28 columns]"
      ]
     },
     "execution_count": 756,
     "metadata": {},
     "output_type": "execute_result"
    }
   ],
   "source": [
    "df1.head()"
   ]
  },
  {
   "cell_type": "code",
   "execution_count": 757,
   "id": "ce3bcb47",
   "metadata": {},
   "outputs": [
    {
     "data": {
      "text/plain": [
       "Index(['Unnamed: 0', 'location_x', 'location_y', 'remaining_min',\n",
       "       'power_of_shot', 'knockout_match', 'game_season', 'remaining_sec',\n",
       "       'distance_of_shot', 'is_goal', 'area_of_shot', 'shot_basics',\n",
       "       'range_of_shot', 'team_name', 'type_of_shot', 'type_of_combined_shot',\n",
       "       'match_id', 'team_id', 'remaining_min.1', 'power_of_shot.1',\n",
       "       'knockout_match.1', 'remaining_sec.1', 'distance_of_shot.1', 'day',\n",
       "       'month', 'year', 'lat', 'long'],\n",
       "      dtype='object')"
      ]
     },
     "execution_count": 757,
     "metadata": {},
     "output_type": "execute_result"
    }
   ],
   "source": [
    "df1.columns"
   ]
  },
  {
   "cell_type": "code",
   "execution_count": null,
   "id": "564ceb7f",
   "metadata": {},
   "outputs": [],
   "source": []
  },
  {
   "cell_type": "markdown",
   "id": "ce3ab4e7",
   "metadata": {},
   "source": [
    "type_of_combined_shot:"
   ]
  },
  {
   "cell_type": "code",
   "execution_count": 758,
   "id": "4afbe69c",
   "metadata": {},
   "outputs": [
    {
     "data": {
      "text/plain": [
       "array([nan, 'shot - 3', 'shot - 1', 'shot - 4', 'shot - 5', 'shot - 2',\n",
       "       'shot - 0'], dtype=object)"
      ]
     },
     "execution_count": 758,
     "metadata": {},
     "output_type": "execute_result"
    }
   ],
   "source": [
    "df1['type_of_combined_shot'].unique()"
   ]
  },
  {
   "cell_type": "code",
   "execution_count": 759,
   "id": "0321b368",
   "metadata": {},
   "outputs": [],
   "source": [
    "df1['type_of_combined_shot'].fillna(df1['type_of_combined_shot'].mode()[0],inplace=True)"
   ]
  },
  {
   "cell_type": "code",
   "execution_count": 760,
   "id": "f0cd070c",
   "metadata": {},
   "outputs": [
    {
     "data": {
      "text/plain": [
       "array(['shot - 3', 'shot - 1', 'shot - 4', 'shot - 5', 'shot - 2',\n",
       "       'shot - 0'], dtype=object)"
      ]
     },
     "execution_count": 760,
     "metadata": {},
     "output_type": "execute_result"
    }
   ],
   "source": [
    "df1['type_of_combined_shot'].unique()"
   ]
  },
  {
   "cell_type": "code",
   "execution_count": 761,
   "id": "f2e47deb",
   "metadata": {},
   "outputs": [],
   "source": [
    "df1['type_of_combined_shot']=df1['type_of_combined_shot'].str.split('- ').str[1]"
   ]
  },
  {
   "cell_type": "code",
   "execution_count": 762,
   "id": "09a3fe4c",
   "metadata": {},
   "outputs": [],
   "source": [
    "df1['type_of_combined_shot']=df1['type_of_combined_shot'].astype(int)"
   ]
  },
  {
   "cell_type": "code",
   "execution_count": 763,
   "id": "bb7fae35",
   "metadata": {},
   "outputs": [
    {
     "data": {
      "text/plain": [
       "array([3, 1, 4, 5, 2, 0])"
      ]
     },
     "execution_count": 763,
     "metadata": {},
     "output_type": "execute_result"
    }
   ],
   "source": [
    "df1['type_of_combined_shot'].unique()"
   ]
  },
  {
   "cell_type": "code",
   "execution_count": null,
   "id": "998e9a66",
   "metadata": {},
   "outputs": [],
   "source": []
  },
  {
   "cell_type": "markdown",
   "id": "633dab78",
   "metadata": {},
   "source": [
    "\n",
    "\n",
    "drop match_id, team_id,  Unnamed"
   ]
  },
  {
   "cell_type": "code",
   "execution_count": 764,
   "id": "ef892658",
   "metadata": {},
   "outputs": [
    {
     "data": {
      "text/plain": [
       "array([20000012, 20000019, 20000047, ..., 49900086, 49900087, 49900088],\n",
       "      dtype=int64)"
      ]
     },
     "execution_count": 764,
     "metadata": {},
     "output_type": "execute_result"
    }
   ],
   "source": [
    "df1['match_id'].unique()"
   ]
  },
  {
   "cell_type": "code",
   "execution_count": 765,
   "id": "445fcbac",
   "metadata": {},
   "outputs": [
    {
     "data": {
      "text/plain": [
       "array([1610612747], dtype=int64)"
      ]
     },
     "execution_count": 765,
     "metadata": {},
     "output_type": "execute_result"
    }
   ],
   "source": [
    "df1['team_id'].unique()"
   ]
  },
  {
   "cell_type": "code",
   "execution_count": 766,
   "id": "72faeaff",
   "metadata": {},
   "outputs": [],
   "source": [
    "df1.drop('Unnamed: 0',axis=1,inplace=True)\n",
    "df1.drop('match_id',axis=1,inplace=True)\n",
    "df1.drop('team_id',axis=1,inplace=True)\n"
   ]
  },
  {
   "cell_type": "code",
   "execution_count": 767,
   "id": "79db79bf",
   "metadata": {},
   "outputs": [
    {
     "data": {
      "text/plain": [
       "Index(['location_x', 'location_y', 'remaining_min', 'power_of_shot',\n",
       "       'knockout_match', 'game_season', 'remaining_sec', 'distance_of_shot',\n",
       "       'is_goal', 'area_of_shot', 'shot_basics', 'range_of_shot', 'team_name',\n",
       "       'type_of_shot', 'type_of_combined_shot', 'remaining_min.1',\n",
       "       'power_of_shot.1', 'knockout_match.1', 'remaining_sec.1',\n",
       "       'distance_of_shot.1', 'day', 'month', 'year', 'lat', 'long'],\n",
       "      dtype='object')"
      ]
     },
     "execution_count": 767,
     "metadata": {},
     "output_type": "execute_result"
    }
   ],
   "source": [
    "df1.columns"
   ]
  },
  {
   "cell_type": "code",
   "execution_count": null,
   "id": "3f4d0507",
   "metadata": {},
   "outputs": [],
   "source": []
  },
  {
   "cell_type": "markdown",
   "id": "6abb61a7",
   "metadata": {},
   "source": [
    "find corr() of column 'remaining_min.1',\n",
    "       'power_of_shot.1', 'knockout_match.1', 'remaining_sec.1',\n",
    "       'distance_of_shot.1' with  'power_of_shot', 'knockout_match', 'game_season',\n",
    "       'remaining_sec', 'distance_of_shot'"
   ]
  },
  {
   "cell_type": "code",
   "execution_count": 768,
   "id": "f3f05a19",
   "metadata": {},
   "outputs": [
    {
     "data": {
      "text/html": [
       "<div>\n",
       "<style scoped>\n",
       "    .dataframe tbody tr th:only-of-type {\n",
       "        vertical-align: middle;\n",
       "    }\n",
       "\n",
       "    .dataframe tbody tr th {\n",
       "        vertical-align: top;\n",
       "    }\n",
       "\n",
       "    .dataframe thead th {\n",
       "        text-align: right;\n",
       "    }\n",
       "</style>\n",
       "<table border=\"1\" class=\"dataframe\">\n",
       "  <thead>\n",
       "    <tr style=\"text-align: right;\">\n",
       "      <th></th>\n",
       "      <th>remaining_min.1</th>\n",
       "      <th>power_of_shot.1</th>\n",
       "      <th>knockout_match.1</th>\n",
       "      <th>remaining_sec.1</th>\n",
       "      <th>distance_of_shot.1</th>\n",
       "      <th>power_of_shot</th>\n",
       "      <th>knockout_match</th>\n",
       "      <th>game_season</th>\n",
       "      <th>remaining_sec</th>\n",
       "      <th>distance_of_shot</th>\n",
       "    </tr>\n",
       "  </thead>\n",
       "  <tbody>\n",
       "    <tr>\n",
       "      <th>remaining_min.1</th>\n",
       "      <td>1.000000</td>\n",
       "      <td>-0.000642</td>\n",
       "      <td>0.001780</td>\n",
       "      <td>0.019363</td>\n",
       "      <td>-0.012790</td>\n",
       "      <td>-0.017801</td>\n",
       "      <td>0.006441</td>\n",
       "      <td>-0.001020</td>\n",
       "      <td>0.006482</td>\n",
       "      <td>-0.004816</td>\n",
       "    </tr>\n",
       "    <tr>\n",
       "      <th>power_of_shot.1</th>\n",
       "      <td>-0.000642</td>\n",
       "      <td>1.000000</td>\n",
       "      <td>-0.006052</td>\n",
       "      <td>0.006970</td>\n",
       "      <td>0.002725</td>\n",
       "      <td>0.025747</td>\n",
       "      <td>0.001365</td>\n",
       "      <td>0.005189</td>\n",
       "      <td>0.002448</td>\n",
       "      <td>0.003258</td>\n",
       "    </tr>\n",
       "    <tr>\n",
       "      <th>knockout_match.1</th>\n",
       "      <td>0.001780</td>\n",
       "      <td>-0.006052</td>\n",
       "      <td>1.000000</td>\n",
       "      <td>0.004459</td>\n",
       "      <td>-0.000589</td>\n",
       "      <td>-0.003218</td>\n",
       "      <td>0.009087</td>\n",
       "      <td>-0.002269</td>\n",
       "      <td>0.002238</td>\n",
       "      <td>0.008003</td>\n",
       "    </tr>\n",
       "    <tr>\n",
       "      <th>remaining_sec.1</th>\n",
       "      <td>0.019363</td>\n",
       "      <td>0.006970</td>\n",
       "      <td>0.004459</td>\n",
       "      <td>1.000000</td>\n",
       "      <td>-0.008911</td>\n",
       "      <td>0.006835</td>\n",
       "      <td>-0.003216</td>\n",
       "      <td>-0.000089</td>\n",
       "      <td>0.451199</td>\n",
       "      <td>-0.021356</td>\n",
       "    </tr>\n",
       "    <tr>\n",
       "      <th>distance_of_shot.1</th>\n",
       "      <td>-0.012790</td>\n",
       "      <td>0.002725</td>\n",
       "      <td>-0.000589</td>\n",
       "      <td>-0.008911</td>\n",
       "      <td>1.000000</td>\n",
       "      <td>0.022457</td>\n",
       "      <td>0.000532</td>\n",
       "      <td>-0.005705</td>\n",
       "      <td>-0.017973</td>\n",
       "      <td>0.369456</td>\n",
       "    </tr>\n",
       "    <tr>\n",
       "      <th>power_of_shot</th>\n",
       "      <td>-0.017801</td>\n",
       "      <td>0.025747</td>\n",
       "      <td>-0.003218</td>\n",
       "      <td>0.006835</td>\n",
       "      <td>0.022457</td>\n",
       "      <td>1.000000</td>\n",
       "      <td>0.010533</td>\n",
       "      <td>-0.008574</td>\n",
       "      <td>0.002943</td>\n",
       "      <td>0.039675</td>\n",
       "    </tr>\n",
       "    <tr>\n",
       "      <th>knockout_match</th>\n",
       "      <td>0.006441</td>\n",
       "      <td>0.001365</td>\n",
       "      <td>0.009087</td>\n",
       "      <td>-0.003216</td>\n",
       "      <td>0.000532</td>\n",
       "      <td>0.010533</td>\n",
       "      <td>1.000000</td>\n",
       "      <td>-0.040354</td>\n",
       "      <td>-0.000986</td>\n",
       "      <td>-0.007306</td>\n",
       "    </tr>\n",
       "    <tr>\n",
       "      <th>game_season</th>\n",
       "      <td>-0.001020</td>\n",
       "      <td>0.005189</td>\n",
       "      <td>-0.002269</td>\n",
       "      <td>-0.000089</td>\n",
       "      <td>-0.005705</td>\n",
       "      <td>-0.008574</td>\n",
       "      <td>-0.040354</td>\n",
       "      <td>1.000000</td>\n",
       "      <td>-0.006915</td>\n",
       "      <td>0.016608</td>\n",
       "    </tr>\n",
       "    <tr>\n",
       "      <th>remaining_sec</th>\n",
       "      <td>0.006482</td>\n",
       "      <td>0.002448</td>\n",
       "      <td>0.002238</td>\n",
       "      <td>0.451199</td>\n",
       "      <td>-0.017973</td>\n",
       "      <td>0.002943</td>\n",
       "      <td>-0.000986</td>\n",
       "      <td>-0.006915</td>\n",
       "      <td>1.000000</td>\n",
       "      <td>-0.043395</td>\n",
       "    </tr>\n",
       "    <tr>\n",
       "      <th>distance_of_shot</th>\n",
       "      <td>-0.004816</td>\n",
       "      <td>0.003258</td>\n",
       "      <td>0.008003</td>\n",
       "      <td>-0.021356</td>\n",
       "      <td>0.369456</td>\n",
       "      <td>0.039675</td>\n",
       "      <td>-0.007306</td>\n",
       "      <td>0.016608</td>\n",
       "      <td>-0.043395</td>\n",
       "      <td>1.000000</td>\n",
       "    </tr>\n",
       "  </tbody>\n",
       "</table>\n",
       "</div>"
      ],
      "text/plain": [
       "                    remaining_min.1  power_of_shot.1  knockout_match.1  \\\n",
       "remaining_min.1            1.000000        -0.000642          0.001780   \n",
       "power_of_shot.1           -0.000642         1.000000         -0.006052   \n",
       "knockout_match.1           0.001780        -0.006052          1.000000   \n",
       "remaining_sec.1            0.019363         0.006970          0.004459   \n",
       "distance_of_shot.1        -0.012790         0.002725         -0.000589   \n",
       "power_of_shot             -0.017801         0.025747         -0.003218   \n",
       "knockout_match             0.006441         0.001365          0.009087   \n",
       "game_season               -0.001020         0.005189         -0.002269   \n",
       "remaining_sec              0.006482         0.002448          0.002238   \n",
       "distance_of_shot          -0.004816         0.003258          0.008003   \n",
       "\n",
       "                    remaining_sec.1  distance_of_shot.1  power_of_shot  \\\n",
       "remaining_min.1            0.019363           -0.012790      -0.017801   \n",
       "power_of_shot.1            0.006970            0.002725       0.025747   \n",
       "knockout_match.1           0.004459           -0.000589      -0.003218   \n",
       "remaining_sec.1            1.000000           -0.008911       0.006835   \n",
       "distance_of_shot.1        -0.008911            1.000000       0.022457   \n",
       "power_of_shot              0.006835            0.022457       1.000000   \n",
       "knockout_match            -0.003216            0.000532       0.010533   \n",
       "game_season               -0.000089           -0.005705      -0.008574   \n",
       "remaining_sec              0.451199           -0.017973       0.002943   \n",
       "distance_of_shot          -0.021356            0.369456       0.039675   \n",
       "\n",
       "                    knockout_match  game_season  remaining_sec  \\\n",
       "remaining_min.1           0.006441    -0.001020       0.006482   \n",
       "power_of_shot.1           0.001365     0.005189       0.002448   \n",
       "knockout_match.1          0.009087    -0.002269       0.002238   \n",
       "remaining_sec.1          -0.003216    -0.000089       0.451199   \n",
       "distance_of_shot.1        0.000532    -0.005705      -0.017973   \n",
       "power_of_shot             0.010533    -0.008574       0.002943   \n",
       "knockout_match            1.000000    -0.040354      -0.000986   \n",
       "game_season              -0.040354     1.000000      -0.006915   \n",
       "remaining_sec            -0.000986    -0.006915       1.000000   \n",
       "distance_of_shot         -0.007306     0.016608      -0.043395   \n",
       "\n",
       "                    distance_of_shot  \n",
       "remaining_min.1            -0.004816  \n",
       "power_of_shot.1             0.003258  \n",
       "knockout_match.1            0.008003  \n",
       "remaining_sec.1            -0.021356  \n",
       "distance_of_shot.1          0.369456  \n",
       "power_of_shot               0.039675  \n",
       "knockout_match             -0.007306  \n",
       "game_season                 0.016608  \n",
       "remaining_sec              -0.043395  \n",
       "distance_of_shot            1.000000  "
      ]
     },
     "execution_count": 768,
     "metadata": {},
     "output_type": "execute_result"
    }
   ],
   "source": [
    "df1[['remaining_min.1', 'power_of_shot.1', 'knockout_match.1', 'remaining_sec.1', 'distance_of_shot.1','power_of_shot', 'knockout_match', 'game_season', 'remaining_sec', 'distance_of_shot']].corr()"
   ]
  },
  {
   "cell_type": "code",
   "execution_count": null,
   "id": "60d3b24b",
   "metadata": {},
   "outputs": [],
   "source": []
  },
  {
   "cell_type": "markdown",
   "id": "2b35f3de",
   "metadata": {},
   "source": [
    "remaining_min.1"
   ]
  },
  {
   "cell_type": "code",
   "execution_count": 769,
   "id": "b39783ab",
   "metadata": {},
   "outputs": [
    {
     "data": {
      "text/plain": [
       "1535"
      ]
     },
     "execution_count": 769,
     "metadata": {},
     "output_type": "execute_result"
    }
   ],
   "source": [
    "df1['remaining_min.1'].isnull().sum()"
   ]
  },
  {
   "cell_type": "code",
   "execution_count": 770,
   "id": "aa5ec61e",
   "metadata": {},
   "outputs": [],
   "source": [
    "df1['remaining_min.1'].fillna(df1['remaining_min.1'].mode()[0],inplace=True)"
   ]
  },
  {
   "cell_type": "code",
   "execution_count": 771,
   "id": "bdec2653",
   "metadata": {},
   "outputs": [
    {
     "data": {
      "text/plain": [
       "0"
      ]
     },
     "execution_count": 771,
     "metadata": {},
     "output_type": "execute_result"
    }
   ],
   "source": [
    "df1['remaining_min.1'].isnull().sum()"
   ]
  },
  {
   "cell_type": "code",
   "execution_count": null,
   "id": "b363ce09",
   "metadata": {},
   "outputs": [],
   "source": []
  },
  {
   "cell_type": "markdown",
   "id": "cded688b",
   "metadata": {},
   "source": [
    "power_of_shot.1"
   ]
  },
  {
   "cell_type": "code",
   "execution_count": 772,
   "id": "9077a31d",
   "metadata": {},
   "outputs": [
    {
     "data": {
      "text/plain": [
       "1539"
      ]
     },
     "execution_count": 772,
     "metadata": {},
     "output_type": "execute_result"
    }
   ],
   "source": [
    "df1['power_of_shot.1'].isnull().sum()"
   ]
  },
  {
   "cell_type": "code",
   "execution_count": 773,
   "id": "2a5e107d",
   "metadata": {},
   "outputs": [],
   "source": [
    "df1['power_of_shot.1'].fillna(df1['power_of_shot.1'].mode()[0],inplace=True)"
   ]
  },
  {
   "cell_type": "code",
   "execution_count": 774,
   "id": "6ec76a32",
   "metadata": {},
   "outputs": [
    {
     "data": {
      "text/plain": [
       "0"
      ]
     },
     "execution_count": 774,
     "metadata": {},
     "output_type": "execute_result"
    }
   ],
   "source": [
    "df1['power_of_shot.1'].isnull().sum()"
   ]
  },
  {
   "cell_type": "code",
   "execution_count": null,
   "id": "817e359f",
   "metadata": {},
   "outputs": [],
   "source": []
  },
  {
   "cell_type": "markdown",
   "id": "03e912af",
   "metadata": {},
   "source": [
    "knockout_match.1"
   ]
  },
  {
   "cell_type": "code",
   "execution_count": 775,
   "id": "19ea72aa",
   "metadata": {},
   "outputs": [
    {
     "data": {
      "text/plain": [
       "1493"
      ]
     },
     "execution_count": 775,
     "metadata": {},
     "output_type": "execute_result"
    }
   ],
   "source": [
    "df1['knockout_match.1'].isnull().sum()"
   ]
  },
  {
   "cell_type": "code",
   "execution_count": 776,
   "id": "46046c0d",
   "metadata": {},
   "outputs": [],
   "source": [
    "df1['knockout_match.1'].fillna(df1['knockout_match.1'].mode()[0],inplace=True)"
   ]
  },
  {
   "cell_type": "code",
   "execution_count": 777,
   "id": "e695fb5a",
   "metadata": {},
   "outputs": [
    {
     "data": {
      "text/plain": [
       "0"
      ]
     },
     "execution_count": 777,
     "metadata": {},
     "output_type": "execute_result"
    }
   ],
   "source": [
    "df1['knockout_match.1'].isnull().sum()"
   ]
  },
  {
   "cell_type": "code",
   "execution_count": null,
   "id": "f61fdd73",
   "metadata": {},
   "outputs": [],
   "source": []
  },
  {
   "cell_type": "markdown",
   "id": "588f5908",
   "metadata": {},
   "source": [
    "remaining_sec.1"
   ]
  },
  {
   "cell_type": "code",
   "execution_count": 778,
   "id": "f5cf6e39",
   "metadata": {},
   "outputs": [
    {
     "data": {
      "text/plain": [
       "1539"
      ]
     },
     "execution_count": 778,
     "metadata": {},
     "output_type": "execute_result"
    }
   ],
   "source": [
    "df1['remaining_sec.1'].isnull().sum()"
   ]
  },
  {
   "cell_type": "code",
   "execution_count": 779,
   "id": "846f8c09",
   "metadata": {},
   "outputs": [],
   "source": [
    "df1['remaining_sec.1'].fillna(df1['remaining_sec.1'].mode()[0],inplace=True)"
   ]
  },
  {
   "cell_type": "code",
   "execution_count": 780,
   "id": "81baeb5e",
   "metadata": {},
   "outputs": [
    {
     "data": {
      "text/plain": [
       "0"
      ]
     },
     "execution_count": 780,
     "metadata": {},
     "output_type": "execute_result"
    }
   ],
   "source": [
    "df1['remaining_sec.1'].isnull().sum()"
   ]
  },
  {
   "cell_type": "code",
   "execution_count": null,
   "id": "8fea2431",
   "metadata": {},
   "outputs": [],
   "source": []
  },
  {
   "cell_type": "markdown",
   "id": "f20406ed",
   "metadata": {},
   "source": [
    "distance_of_shot.1"
   ]
  },
  {
   "cell_type": "code",
   "execution_count": 781,
   "id": "8fc5d141",
   "metadata": {},
   "outputs": [
    {
     "data": {
      "text/plain": [
       "1568"
      ]
     },
     "execution_count": 781,
     "metadata": {},
     "output_type": "execute_result"
    }
   ],
   "source": [
    "df1['distance_of_shot.1'].isnull().sum()"
   ]
  },
  {
   "cell_type": "code",
   "execution_count": 782,
   "id": "ed15ee8c",
   "metadata": {},
   "outputs": [],
   "source": [
    "df1['distance_of_shot.1'].fillna(df1['distance_of_shot.1'].mode()[0],inplace=True)"
   ]
  },
  {
   "cell_type": "code",
   "execution_count": 783,
   "id": "de993680",
   "metadata": {},
   "outputs": [
    {
     "data": {
      "text/plain": [
       "0"
      ]
     },
     "execution_count": 783,
     "metadata": {},
     "output_type": "execute_result"
    }
   ],
   "source": [
    "df1['distance_of_shot.1'].isnull().sum()"
   ]
  },
  {
   "cell_type": "code",
   "execution_count": null,
   "id": "71a4dfa8",
   "metadata": {},
   "outputs": [],
   "source": []
  },
  {
   "cell_type": "code",
   "execution_count": 784,
   "id": "fe413085",
   "metadata": {},
   "outputs": [
    {
     "name": "stdout",
     "output_type": "stream",
     "text": [
      "<class 'pandas.core.frame.DataFrame'>\n",
      "RangeIndex: 30697 entries, 0 to 30696\n",
      "Data columns (total 25 columns):\n",
      " #   Column                 Non-Null Count  Dtype  \n",
      "---  ------                 --------------  -----  \n",
      " 0   location_x             30697 non-null  float64\n",
      " 1   location_y             30697 non-null  float64\n",
      " 2   remaining_min          30697 non-null  float64\n",
      " 3   power_of_shot          30697 non-null  float64\n",
      " 4   knockout_match         30697 non-null  float64\n",
      " 5   game_season            30697 non-null  int32  \n",
      " 6   remaining_sec          30697 non-null  float64\n",
      " 7   distance_of_shot       30697 non-null  float64\n",
      " 8   is_goal                30697 non-null  float64\n",
      " 9   area_of_shot           30697 non-null  int32  \n",
      " 10  shot_basics            30697 non-null  int32  \n",
      " 11  range_of_shot          30697 non-null  int32  \n",
      " 12  team_name              30697 non-null  int32  \n",
      " 13  type_of_shot           30697 non-null  int32  \n",
      " 14  type_of_combined_shot  30697 non-null  int32  \n",
      " 15  remaining_min.1        30697 non-null  float64\n",
      " 16  power_of_shot.1        30697 non-null  float64\n",
      " 17  knockout_match.1       30697 non-null  float64\n",
      " 18  remaining_sec.1        30697 non-null  float64\n",
      " 19  distance_of_shot.1     30697 non-null  float64\n",
      " 20  day                    30697 non-null  int32  \n",
      " 21  month                  30697 non-null  int32  \n",
      " 22  year                   30697 non-null  int32  \n",
      " 23  lat                    30697 non-null  float64\n",
      " 24  long                   30697 non-null  float64\n",
      "dtypes: float64(15), int32(10)\n",
      "memory usage: 4.7 MB\n"
     ]
    }
   ],
   "source": [
    "df1.info()"
   ]
  },
  {
   "cell_type": "code",
   "execution_count": null,
   "id": "68994838",
   "metadata": {},
   "outputs": [],
   "source": []
  },
  {
   "cell_type": "code",
   "execution_count": 785,
   "id": "638c9f64",
   "metadata": {},
   "outputs": [
    {
     "data": {
      "text/html": [
       "<div>\n",
       "<style scoped>\n",
       "    .dataframe tbody tr th:only-of-type {\n",
       "        vertical-align: middle;\n",
       "    }\n",
       "\n",
       "    .dataframe tbody tr th {\n",
       "        vertical-align: top;\n",
       "    }\n",
       "\n",
       "    .dataframe thead th {\n",
       "        text-align: right;\n",
       "    }\n",
       "</style>\n",
       "<table border=\"1\" class=\"dataframe\">\n",
       "  <thead>\n",
       "    <tr style=\"text-align: right;\">\n",
       "      <th></th>\n",
       "      <th>location_x</th>\n",
       "      <th>location_y</th>\n",
       "      <th>remaining_min</th>\n",
       "      <th>power_of_shot</th>\n",
       "      <th>knockout_match</th>\n",
       "      <th>game_season</th>\n",
       "      <th>remaining_sec</th>\n",
       "      <th>distance_of_shot</th>\n",
       "      <th>is_goal</th>\n",
       "      <th>area_of_shot</th>\n",
       "      <th>...</th>\n",
       "      <th>remaining_min.1</th>\n",
       "      <th>power_of_shot.1</th>\n",
       "      <th>knockout_match.1</th>\n",
       "      <th>remaining_sec.1</th>\n",
       "      <th>distance_of_shot.1</th>\n",
       "      <th>day</th>\n",
       "      <th>month</th>\n",
       "      <th>year</th>\n",
       "      <th>lat</th>\n",
       "      <th>long</th>\n",
       "    </tr>\n",
       "  </thead>\n",
       "  <tbody>\n",
       "    <tr>\n",
       "      <th>0</th>\n",
       "      <td>167.0</td>\n",
       "      <td>72.0</td>\n",
       "      <td>10.0</td>\n",
       "      <td>1.0</td>\n",
       "      <td>0.0</td>\n",
       "      <td>1</td>\n",
       "      <td>27.0</td>\n",
       "      <td>38.0</td>\n",
       "      <td>0.0</td>\n",
       "      <td>1</td>\n",
       "      <td>...</td>\n",
       "      <td>10.00</td>\n",
       "      <td>1.0</td>\n",
       "      <td>50.608</td>\n",
       "      <td>54.2000</td>\n",
       "      <td>38.0</td>\n",
       "      <td>31</td>\n",
       "      <td>10</td>\n",
       "      <td>2000</td>\n",
       "      <td>45.539131</td>\n",
       "      <td>-122.651648</td>\n",
       "    </tr>\n",
       "    <tr>\n",
       "      <th>1</th>\n",
       "      <td>-157.0</td>\n",
       "      <td>0.0</td>\n",
       "      <td>10.0</td>\n",
       "      <td>1.0</td>\n",
       "      <td>0.0</td>\n",
       "      <td>1</td>\n",
       "      <td>22.0</td>\n",
       "      <td>35.0</td>\n",
       "      <td>0.0</td>\n",
       "      <td>2</td>\n",
       "      <td>...</td>\n",
       "      <td>10.00</td>\n",
       "      <td>1.0</td>\n",
       "      <td>28.800</td>\n",
       "      <td>22.0000</td>\n",
       "      <td>35.0</td>\n",
       "      <td>31</td>\n",
       "      <td>10</td>\n",
       "      <td>2000</td>\n",
       "      <td>45.539131</td>\n",
       "      <td>-122.651648</td>\n",
       "    </tr>\n",
       "    <tr>\n",
       "      <th>2</th>\n",
       "      <td>-101.0</td>\n",
       "      <td>135.0</td>\n",
       "      <td>7.0</td>\n",
       "      <td>1.0</td>\n",
       "      <td>0.0</td>\n",
       "      <td>1</td>\n",
       "      <td>45.0</td>\n",
       "      <td>36.0</td>\n",
       "      <td>1.0</td>\n",
       "      <td>3</td>\n",
       "      <td>...</td>\n",
       "      <td>92.64</td>\n",
       "      <td>1.0</td>\n",
       "      <td>0.000</td>\n",
       "      <td>63.7216</td>\n",
       "      <td>54.4</td>\n",
       "      <td>31</td>\n",
       "      <td>10</td>\n",
       "      <td>2000</td>\n",
       "      <td>45.539131</td>\n",
       "      <td>-122.651648</td>\n",
       "    </tr>\n",
       "    <tr>\n",
       "      <th>3</th>\n",
       "      <td>138.0</td>\n",
       "      <td>175.0</td>\n",
       "      <td>6.0</td>\n",
       "      <td>1.0</td>\n",
       "      <td>0.0</td>\n",
       "      <td>1</td>\n",
       "      <td>52.0</td>\n",
       "      <td>42.0</td>\n",
       "      <td>0.0</td>\n",
       "      <td>4</td>\n",
       "      <td>...</td>\n",
       "      <td>0.00</td>\n",
       "      <td>1.0</td>\n",
       "      <td>122.608</td>\n",
       "      <td>52.0000</td>\n",
       "      <td>42.0</td>\n",
       "      <td>31</td>\n",
       "      <td>10</td>\n",
       "      <td>2000</td>\n",
       "      <td>45.539131</td>\n",
       "      <td>-122.651648</td>\n",
       "    </tr>\n",
       "    <tr>\n",
       "      <th>4</th>\n",
       "      <td>0.0</td>\n",
       "      <td>0.0</td>\n",
       "      <td>5.0</td>\n",
       "      <td>2.0</td>\n",
       "      <td>0.0</td>\n",
       "      <td>1</td>\n",
       "      <td>19.0</td>\n",
       "      <td>20.0</td>\n",
       "      <td>1.0</td>\n",
       "      <td>5</td>\n",
       "      <td>...</td>\n",
       "      <td>42.64</td>\n",
       "      <td>2.0</td>\n",
       "      <td>0.000</td>\n",
       "      <td>19.0000</td>\n",
       "      <td>20.0</td>\n",
       "      <td>31</td>\n",
       "      <td>10</td>\n",
       "      <td>2000</td>\n",
       "      <td>45.539131</td>\n",
       "      <td>-122.651648</td>\n",
       "    </tr>\n",
       "  </tbody>\n",
       "</table>\n",
       "<p>5 rows × 25 columns</p>\n",
       "</div>"
      ],
      "text/plain": [
       "   location_x  location_y  remaining_min  power_of_shot  knockout_match  \\\n",
       "0       167.0        72.0           10.0            1.0             0.0   \n",
       "1      -157.0         0.0           10.0            1.0             0.0   \n",
       "2      -101.0       135.0            7.0            1.0             0.0   \n",
       "3       138.0       175.0            6.0            1.0             0.0   \n",
       "4         0.0         0.0            5.0            2.0             0.0   \n",
       "\n",
       "   game_season  remaining_sec  distance_of_shot  is_goal  area_of_shot  ...  \\\n",
       "0            1           27.0              38.0      0.0             1  ...   \n",
       "1            1           22.0              35.0      0.0             2  ...   \n",
       "2            1           45.0              36.0      1.0             3  ...   \n",
       "3            1           52.0              42.0      0.0             4  ...   \n",
       "4            1           19.0              20.0      1.0             5  ...   \n",
       "\n",
       "   remaining_min.1  power_of_shot.1  knockout_match.1  remaining_sec.1  \\\n",
       "0            10.00              1.0            50.608          54.2000   \n",
       "1            10.00              1.0            28.800          22.0000   \n",
       "2            92.64              1.0             0.000          63.7216   \n",
       "3             0.00              1.0           122.608          52.0000   \n",
       "4            42.64              2.0             0.000          19.0000   \n",
       "\n",
       "   distance_of_shot.1  day  month  year        lat        long  \n",
       "0                38.0   31     10  2000  45.539131 -122.651648  \n",
       "1                35.0   31     10  2000  45.539131 -122.651648  \n",
       "2                54.4   31     10  2000  45.539131 -122.651648  \n",
       "3                42.0   31     10  2000  45.539131 -122.651648  \n",
       "4                20.0   31     10  2000  45.539131 -122.651648  \n",
       "\n",
       "[5 rows x 25 columns]"
      ]
     },
     "execution_count": 785,
     "metadata": {},
     "output_type": "execute_result"
    }
   ],
   "source": [
    "df1.head()"
   ]
  },
  {
   "cell_type": "code",
   "execution_count": null,
   "id": "6c71d9ab",
   "metadata": {},
   "outputs": [],
   "source": []
  },
  {
   "cell_type": "markdown",
   "id": "b065fbdb",
   "metadata": {},
   "source": [
    "### now plot visualisation"
   ]
  },
  {
   "cell_type": "code",
   "execution_count": null,
   "id": "9b9fd514",
   "metadata": {},
   "outputs": [],
   "source": []
  },
  {
   "cell_type": "code",
   "execution_count": 786,
   "id": "76cea123",
   "metadata": {},
   "outputs": [
    {
     "data": {
      "text/plain": [
       "<AxesSubplot:>"
      ]
     },
     "execution_count": 786,
     "metadata": {},
     "output_type": "execute_result"
    },
    {
     "data": {
      "image/png": "[encoded data removed]",
      "text/plain": [
       "<Figure size 432x288 with 2 Axes>"
      ]
     },
     "metadata": {
      "needs_background": "light"
     },
     "output_type": "display_data"
    }
   ],
   "source": [
    "\n",
    "sns.heatmap(df1)"
   ]
  },
  {
   "cell_type": "code",
   "execution_count": null,
   "id": "c1385fb1",
   "metadata": {},
   "outputs": [],
   "source": []
  },
  {
   "cell_type": "code",
   "execution_count": null,
   "id": "d98d2500",
   "metadata": {},
   "outputs": [],
   "source": [
    "# power of shot vs distance of shot"
   ]
  },
  {
   "cell_type": "code",
   "execution_count": 787,
   "id": "2646d589",
   "metadata": {},
   "outputs": [
    {
     "name": "stderr",
     "output_type": "stream",
     "text": [
      "C:\\Users\\user\\anaconda3\\lib\\site-packages\\seaborn\\_decorators.py:36: FutureWarning: Pass the following variables as keyword args: x, y. From version 0.12, the only valid positional argument will be `data`, and passing other arguments without an explicit keyword will result in an error or misinterpretation.\n",
      "  warnings.warn(\n"
     ]
    },
    {
     "data": {
      "text/plain": [
       "<AxesSubplot:xlabel='power_of_shot', ylabel='distance_of_shot'>"
      ]
     },
     "execution_count": 787,
     "metadata": {},
     "output_type": "execute_result"
    },
    {
     "data": {
      "image/png": "[encoded data removed]",
      "text/plain": [
       "<Figure size 432x288 with 1 Axes>"
      ]
     },
     "metadata": {
      "needs_background": "light"
     },
     "output_type": "display_data"
    }
   ],
   "source": [
    "sns.barplot('power_of_shot','distance_of_shot',data=df1)"
   ]
  },
  {
   "cell_type": "code",
   "execution_count": null,
   "id": "c89171ce",
   "metadata": {},
   "outputs": [],
   "source": []
  },
  {
   "cell_type": "code",
   "execution_count": 788,
   "id": "f86eefc1",
   "metadata": {},
   "outputs": [
    {
     "data": {
      "text/plain": [
       "Index(['location_x', 'location_y', 'remaining_min', 'power_of_shot',\n",
       "       'knockout_match', 'game_season', 'remaining_sec', 'distance_of_shot',\n",
       "       'is_goal', 'area_of_shot', 'shot_basics', 'range_of_shot', 'team_name',\n",
       "       'type_of_shot', 'type_of_combined_shot', 'remaining_min.1',\n",
       "       'power_of_shot.1', 'knockout_match.1', 'remaining_sec.1',\n",
       "       'distance_of_shot.1', 'day', 'month', 'year', 'lat', 'long'],\n",
       "      dtype='object')"
      ]
     },
     "execution_count": 788,
     "metadata": {},
     "output_type": "execute_result"
    }
   ],
   "source": [
    "df1.columns"
   ]
  },
  {
   "cell_type": "code",
   "execution_count": 789,
   "id": "c50ddf2a",
   "metadata": {},
   "outputs": [
    {
     "name": "stderr",
     "output_type": "stream",
     "text": [
      "C:\\Users\\user\\anaconda3\\lib\\site-packages\\seaborn\\_decorators.py:36: FutureWarning: Pass the following variables as keyword args: x, y. From version 0.12, the only valid positional argument will be `data`, and passing other arguments without an explicit keyword will result in an error or misinterpretation.\n",
      "  warnings.warn(\n"
     ]
    },
    {
     "data": {
      "text/plain": [
       "<AxesSubplot:xlabel='is_goal', ylabel='area_of_shot'>"
      ]
     },
     "execution_count": 789,
     "metadata": {},
     "output_type": "execute_result"
    },
    {
     "data": {
      "image/png": "[encoded data removed]",
      "text/plain": [
       "<Figure size 432x288 with 1 Axes>"
      ]
     },
     "metadata": {
      "needs_background": "light"
     },
     "output_type": "display_data"
    }
   ],
   "source": [
    "# area of shot vs goal possibility\n",
    "\n",
    "sns.barplot('is_goal','area_of_shot',hue='knockout_match',data=df1)"
   ]
  },
  {
   "cell_type": "code",
   "execution_count": 790,
   "id": "70455beb",
   "metadata": {},
   "outputs": [
    {
     "name": "stderr",
     "output_type": "stream",
     "text": [
      "C:\\Users\\user\\anaconda3\\lib\\site-packages\\seaborn\\_decorators.py:36: FutureWarning: Pass the following variables as keyword args: x, y. From version 0.12, the only valid positional argument will be `data`, and passing other arguments without an explicit keyword will result in an error or misinterpretation.\n",
      "  warnings.warn(\n"
     ]
    },
    {
     "data": {
      "text/plain": [
       "<AxesSubplot:xlabel='area_of_shot', ylabel='knockout_match'>"
      ]
     },
     "execution_count": 790,
     "metadata": {},
     "output_type": "execute_result"
    },
    {
     "data": {
      "image/png": "[encoded data removed]",
      "text/plain": [
       "<Figure size 432x288 with 1 Axes>"
      ]
     },
     "metadata": {
      "needs_background": "light"
     },
     "output_type": "display_data"
    }
   ],
   "source": [
    "# area of shot vs knouckout match (goal possibility)\n",
    "\n",
    "sns.barplot('area_of_shot','knockout_match',hue='is_goal',data=df1)"
   ]
  },
  {
   "cell_type": "code",
   "execution_count": 791,
   "id": "0d15fe12",
   "metadata": {},
   "outputs": [
    {
     "name": "stderr",
     "output_type": "stream",
     "text": [
      "C:\\Users\\user\\anaconda3\\lib\\site-packages\\seaborn\\_decorators.py:36: FutureWarning: Pass the following variables as keyword args: x, y. From version 0.12, the only valid positional argument will be `data`, and passing other arguments without an explicit keyword will result in an error or misinterpretation.\n",
      "  warnings.warn(\n"
     ]
    },
    {
     "data": {
      "text/plain": [
       "<AxesSubplot:xlabel='area_of_shot', ylabel='knockout_match.1'>"
      ]
     },
     "execution_count": 791,
     "metadata": {},
     "output_type": "execute_result"
    },
    {
     "data": {
      "image/png": "[encoded data removed]",
      "text/plain": [
       "<Figure size 432x288 with 1 Axes>"
      ]
     },
     "metadata": {
      "needs_background": "light"
     },
     "output_type": "display_data"
    }
   ],
   "source": [
    "# area of shot vs knouckout match1 (goal possibility)\n",
    "\n",
    "sns.barplot('area_of_shot','knockout_match.1',hue='is_goal',data=df1)"
   ]
  },
  {
   "cell_type": "code",
   "execution_count": null,
   "id": "37fb39ad",
   "metadata": {},
   "outputs": [],
   "source": []
  },
  {
   "cell_type": "code",
   "execution_count": 792,
   "id": "138b855e",
   "metadata": {},
   "outputs": [
    {
     "name": "stderr",
     "output_type": "stream",
     "text": [
      "C:\\Users\\user\\anaconda3\\lib\\site-packages\\seaborn\\_decorators.py:36: FutureWarning: Pass the following variables as keyword args: x, y. From version 0.12, the only valid positional argument will be `data`, and passing other arguments without an explicit keyword will result in an error or misinterpretation.\n",
      "  warnings.warn(\n"
     ]
    },
    {
     "data": {
      "text/plain": [
       "<AxesSubplot:xlabel='year', ylabel='team_name'>"
      ]
     },
     "execution_count": 792,
     "metadata": {},
     "output_type": "execute_result"
    },
    {
     "data": {
      "image/png": "[encoded data removed]",
      "text/plain": [
       "<Figure size 1440x360 with 1 Axes>"
      ]
     },
     "metadata": {
      "needs_background": "light"
     },
     "output_type": "display_data"
    }
   ],
   "source": [
    "plt.figure(figsize=(20,5))\n",
    "sns.barplot('year','team_name',data=df1)"
   ]
  },
  {
   "cell_type": "code",
   "execution_count": null,
   "id": "e8af672b",
   "metadata": {},
   "outputs": [],
   "source": []
  },
  {
   "cell_type": "code",
   "execution_count": 793,
   "id": "5c6e98bf",
   "metadata": {},
   "outputs": [
    {
     "name": "stderr",
     "output_type": "stream",
     "text": [
      "C:\\Users\\user\\anaconda3\\lib\\site-packages\\seaborn\\_decorators.py:36: FutureWarning: Pass the following variables as keyword args: x, y. From version 0.12, the only valid positional argument will be `data`, and passing other arguments without an explicit keyword will result in an error or misinterpretation.\n",
      "  warnings.warn(\n"
     ]
    },
    {
     "data": {
      "text/plain": [
       "<AxesSubplot:xlabel='is_goal', ylabel='remaining_min'>"
      ]
     },
     "execution_count": 793,
     "metadata": {},
     "output_type": "execute_result"
    },
    {
     "data": {
      "image/png": "[encoded data removed]",
      "text/plain": [
       "<Figure size 432x288 with 1 Axes>"
      ]
     },
     "metadata": {
      "needs_background": "light"
     },
     "output_type": "display_data"
    }
   ],
   "source": [
    "sns.barplot('is_goal','remaining_min',data=df1)"
   ]
  },
  {
   "cell_type": "code",
   "execution_count": null,
   "id": "9b288911",
   "metadata": {},
   "outputs": [],
   "source": []
  },
  {
   "cell_type": "code",
   "execution_count": 794,
   "id": "32ff9dab",
   "metadata": {},
   "outputs": [
    {
     "name": "stderr",
     "output_type": "stream",
     "text": [
      "C:\\Users\\user\\anaconda3\\lib\\site-packages\\seaborn\\_decorators.py:36: FutureWarning: Pass the following variables as keyword args: x, y. From version 0.12, the only valid positional argument will be `data`, and passing other arguments without an explicit keyword will result in an error or misinterpretation.\n",
      "  warnings.warn(\n"
     ]
    },
    {
     "data": {
      "text/plain": [
       "<AxesSubplot:xlabel='game_season', ylabel='range_of_shot'>"
      ]
     },
     "execution_count": 794,
     "metadata": {},
     "output_type": "execute_result"
    },
    {
     "data": {
      "image/png": "[encoded data removed]",
      "text/plain": [
       "<Figure size 432x288 with 1 Axes>"
      ]
     },
     "metadata": {
      "needs_background": "light"
     },
     "output_type": "display_data"
    }
   ],
   "source": [
    "# range of shots in diff diff seasons\n",
    "\n",
    "sns.barplot('game_season','range_of_shot',hue='is_goal',data=df1)"
   ]
  },
  {
   "cell_type": "code",
   "execution_count": 795,
   "id": "2b64ce7e",
   "metadata": {},
   "outputs": [
    {
     "name": "stderr",
     "output_type": "stream",
     "text": [
      "C:\\Users\\user\\anaconda3\\lib\\site-packages\\seaborn\\_decorators.py:36: FutureWarning: Pass the following variables as keyword args: x, y. From version 0.12, the only valid positional argument will be `data`, and passing other arguments without an explicit keyword will result in an error or misinterpretation.\n",
      "  warnings.warn(\n"
     ]
    },
    {
     "data": {
      "text/plain": [
       "<AxesSubplot:xlabel='range_of_shot', ylabel='game_season'>"
      ]
     },
     "execution_count": 795,
     "metadata": {},
     "output_type": "execute_result"
    },
    {
     "data": {
      "image/png": "[encoded data removed]",
      "text/plain": [
       "<Figure size 432x288 with 1 Axes>"
      ]
     },
     "metadata": {
      "needs_background": "light"
     },
     "output_type": "display_data"
    }
   ],
   "source": [
    "# range of shots in diff diff seasons\n",
    "\n",
    "sns.barplot('range_of_shot','game_season',hue='is_goal',data=df1)"
   ]
  },
  {
   "cell_type": "code",
   "execution_count": null,
   "id": "1aaff4ac",
   "metadata": {},
   "outputs": [],
   "source": []
  },
  {
   "cell_type": "code",
   "execution_count": 796,
   "id": "0f77cf7b",
   "metadata": {},
   "outputs": [
    {
     "data": {
      "text/plain": [
       "Index(['location_x', 'location_y', 'remaining_min', 'power_of_shot',\n",
       "       'knockout_match', 'game_season', 'remaining_sec', 'distance_of_shot',\n",
       "       'is_goal', 'area_of_shot', 'shot_basics', 'range_of_shot', 'team_name',\n",
       "       'type_of_shot', 'type_of_combined_shot', 'remaining_min.1',\n",
       "       'power_of_shot.1', 'knockout_match.1', 'remaining_sec.1',\n",
       "       'distance_of_shot.1', 'day', 'month', 'year', 'lat', 'long'],\n",
       "      dtype='object')"
      ]
     },
     "execution_count": 796,
     "metadata": {},
     "output_type": "execute_result"
    }
   ],
   "source": [
    "df1.columns"
   ]
  },
  {
   "cell_type": "code",
   "execution_count": 797,
   "id": "59613b24",
   "metadata": {},
   "outputs": [
    {
     "data": {
      "text/plain": [
       "<seaborn.axisgrid.FacetGrid at 0x18a92387fd0>"
      ]
     },
     "execution_count": 797,
     "metadata": {},
     "output_type": "execute_result"
    },
    {
     "data": {
      "image/png": "[encoded data removed]",
      "text/plain": [
       "<Figure size 360x360 with 1 Axes>"
      ]
     },
     "metadata": {
      "needs_background": "light"
     },
     "output_type": "display_data"
    }
   ],
   "source": [
    "sns.displot(df1['remaining_min'])"
   ]
  },
  {
   "cell_type": "code",
   "execution_count": null,
   "id": "faac00c2",
   "metadata": {},
   "outputs": [],
   "source": []
  },
  {
   "cell_type": "code",
   "execution_count": 798,
   "id": "d57d1a8e",
   "metadata": {},
   "outputs": [
    {
     "data": {
      "text/plain": [
       "<AxesSubplot:ylabel='power_of_shot'>"
      ]
     },
     "execution_count": 798,
     "metadata": {},
     "output_type": "execute_result"
    },
    {
     "data": {
      "image/png": "[encoded data removed]",
      "text/plain": [
       "<Figure size 432x288 with 1 Axes>"
      ]
     },
     "metadata": {
      "needs_background": "light"
     },
     "output_type": "display_data"
    }
   ],
   "source": [
    "# outelier values\n",
    "sns.boxplot(y='power_of_shot',data=df1)"
   ]
  },
  {
   "cell_type": "code",
   "execution_count": null,
   "id": "bb932509",
   "metadata": {},
   "outputs": [],
   "source": []
  }
 ],
 "metadata": {
  "kernelspec": {
   "display_name": "Python 3 (ipykernel)",
   "language": "python",
   "name": "python3"
  },
  "language_info": {
   "codemirror_mode": {
    "name": "ipython",
    "version": 3
   },
   "file_extension": ".py",
   "mimetype": "text/x-python",
   "name": "python",
   "nbconvert_exporter": "python",
   "pygments_lexer": "ipython3",
   "version": "3.9.7"
  }
 },
 "nbformat": 4,
 "nbformat_minor": 5
}
